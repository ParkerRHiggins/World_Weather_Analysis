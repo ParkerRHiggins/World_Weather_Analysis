{
 "cells": [
  {
   "cell_type": "markdown",
   "metadata": {},
   "source": [
    "## Deliverable 2. Create a Customer Travel Destinations Map."
   ]
  },
  {
   "cell_type": "code",
   "execution_count": 1,
   "metadata": {},
   "outputs": [],
   "source": [
    "# Dependencies and Setup\n",
    "import pandas as pd\n",
    "import requests\n",
    "import gmaps\n",
    "import numpy as np\n",
    "\n",
    "# Import API key\n",
    "from config import g_key\n",
    "\n",
    "# Configure gmaps API key\n",
    "gmaps.configure(api_key=g_key)"
   ]
  },
  {
   "cell_type": "code",
   "execution_count": 2,
   "metadata": {},
   "outputs": [
    {
     "output_type": "execute_result",
     "data": {
      "text/plain": [
       "   City_ID                   City Country      Lat       Lng  Max Temp  \\\n",
       "0        0                 Torbay      NE  47.6666  -52.7314     30.00   \n",
       "1        1                Mataura      NE -46.1927  168.8643     48.00   \n",
       "2        2                Winslow      NE  35.0242 -110.6974     21.20   \n",
       "3        3  Los Llanos De Aridane      NE  28.6585  -17.9182     68.00   \n",
       "4        4               Culiacan      NE  24.7994 -107.3897     66.99   \n",
       "\n",
       "   Humidity  Cloudiness  Wind Speed Current Description  \n",
       "0        93          90       21.85     overcast clouds  \n",
       "1        80          23        8.01          few clouds  \n",
       "2        79           1        4.03           clear sky  \n",
       "3        68          40       13.80    scattered clouds  \n",
       "4        82           1        2.04           clear sky  "
      ],
      "text/html": "<div>\n<style scoped>\n    .dataframe tbody tr th:only-of-type {\n        vertical-align: middle;\n    }\n\n    .dataframe tbody tr th {\n        vertical-align: top;\n    }\n\n    .dataframe thead th {\n        text-align: right;\n    }\n</style>\n<table border=\"1\" class=\"dataframe\">\n  <thead>\n    <tr style=\"text-align: right;\">\n      <th></th>\n      <th>City_ID</th>\n      <th>City</th>\n      <th>Country</th>\n      <th>Lat</th>\n      <th>Lng</th>\n      <th>Max Temp</th>\n      <th>Humidity</th>\n      <th>Cloudiness</th>\n      <th>Wind Speed</th>\n      <th>Current Description</th>\n    </tr>\n  </thead>\n  <tbody>\n    <tr>\n      <th>0</th>\n      <td>0</td>\n      <td>Torbay</td>\n      <td>NE</td>\n      <td>47.6666</td>\n      <td>-52.7314</td>\n      <td>30.00</td>\n      <td>93</td>\n      <td>90</td>\n      <td>21.85</td>\n      <td>overcast clouds</td>\n    </tr>\n    <tr>\n      <th>1</th>\n      <td>1</td>\n      <td>Mataura</td>\n      <td>NE</td>\n      <td>-46.1927</td>\n      <td>168.8643</td>\n      <td>48.00</td>\n      <td>80</td>\n      <td>23</td>\n      <td>8.01</td>\n      <td>few clouds</td>\n    </tr>\n    <tr>\n      <th>2</th>\n      <td>2</td>\n      <td>Winslow</td>\n      <td>NE</td>\n      <td>35.0242</td>\n      <td>-110.6974</td>\n      <td>21.20</td>\n      <td>79</td>\n      <td>1</td>\n      <td>4.03</td>\n      <td>clear sky</td>\n    </tr>\n    <tr>\n      <th>3</th>\n      <td>3</td>\n      <td>Los Llanos De Aridane</td>\n      <td>NE</td>\n      <td>28.6585</td>\n      <td>-17.9182</td>\n      <td>68.00</td>\n      <td>68</td>\n      <td>40</td>\n      <td>13.80</td>\n      <td>scattered clouds</td>\n    </tr>\n    <tr>\n      <th>4</th>\n      <td>4</td>\n      <td>Culiacan</td>\n      <td>NE</td>\n      <td>24.7994</td>\n      <td>-107.3897</td>\n      <td>66.99</td>\n      <td>82</td>\n      <td>1</td>\n      <td>2.04</td>\n      <td>clear sky</td>\n    </tr>\n  </tbody>\n</table>\n</div>"
     },
     "metadata": {},
     "execution_count": 2
    }
   ],
   "source": [
    "# 1. Import the WeatherPy_database.csv file. \n",
    "city_data_df = pd.read_csv(\"Weather_Database/WeatherPy_Database.csv\")\n",
    "city_data_df.head()"
   ]
  },
  {
   "cell_type": "code",
   "execution_count": 3,
   "metadata": {},
   "outputs": [
    {
     "output_type": "execute_result",
     "data": {
      "text/plain": [
       "(70.0, 80.0)"
      ]
     },
     "metadata": {},
     "execution_count": 3
    }
   ],
   "source": [
    "# 2. Prompt the user to enter minimum and maximum temperature criteria \n",
    "min_temp = float(input(\"What is the minimum temperature you would like for your trip? \"))\n",
    "max_temp = float(input(\"What is the maximum temperature you would like for your trip? \"))\n",
    "\n",
    "min_temp, max_temp"
   ]
  },
  {
   "cell_type": "code",
   "execution_count": 4,
   "metadata": {},
   "outputs": [
    {
     "output_type": "execute_result",
     "data": {
      "text/plain": [
       "     City_ID         City Country      Lat       Lng  Max Temp  Humidity  \\\n",
       "8          8       Cairns      NE -16.9167  145.7667     75.20        83   \n",
       "10        10       Kiunga      NE  -6.1219  141.2906     73.36        97   \n",
       "15        15      Tautira      NE -17.7333 -149.1500     77.00        73   \n",
       "19        19     Bengkulu      NE  -3.8004  102.2655     76.66        88   \n",
       "20        20       Vanimo      NE  -2.6741  141.3028     79.29        83   \n",
       "..       ...          ...     ...      ...       ...       ...       ...   \n",
       "704      704  Bahia Honda      NE  22.9036  -83.1592     71.91        62   \n",
       "710      710   Mawlamyine      NE  16.4914   97.6256     76.59        76   \n",
       "714      714        Sembe      NE   1.6481   14.5806     79.52        82   \n",
       "717      717     Progreso      NE  21.2833  -89.6667     73.99        56   \n",
       "719      719   Chalisgaon      NE  20.4667   75.0167     72.57        27   \n",
       "\n",
       "     Cloudiness  Wind Speed Current Description  \n",
       "8           100        5.70     overcast clouds  \n",
       "10          100        1.90     overcast clouds  \n",
       "15           75        4.61          light rain  \n",
       "19          100        6.06          light rain  \n",
       "20          100        8.03       moderate rain  \n",
       "..          ...         ...                 ...  \n",
       "704          11       12.48          few clouds  \n",
       "710          55        3.13       broken clouds  \n",
       "714          98        2.64          light rain  \n",
       "717          40        5.75    scattered clouds  \n",
       "719           0        5.70           clear sky  \n",
       "\n",
       "[148 rows x 10 columns]"
      ],
      "text/html": "<div>\n<style scoped>\n    .dataframe tbody tr th:only-of-type {\n        vertical-align: middle;\n    }\n\n    .dataframe tbody tr th {\n        vertical-align: top;\n    }\n\n    .dataframe thead th {\n        text-align: right;\n    }\n</style>\n<table border=\"1\" class=\"dataframe\">\n  <thead>\n    <tr style=\"text-align: right;\">\n      <th></th>\n      <th>City_ID</th>\n      <th>City</th>\n      <th>Country</th>\n      <th>Lat</th>\n      <th>Lng</th>\n      <th>Max Temp</th>\n      <th>Humidity</th>\n      <th>Cloudiness</th>\n      <th>Wind Speed</th>\n      <th>Current Description</th>\n    </tr>\n  </thead>\n  <tbody>\n    <tr>\n      <th>8</th>\n      <td>8</td>\n      <td>Cairns</td>\n      <td>NE</td>\n      <td>-16.9167</td>\n      <td>145.7667</td>\n      <td>75.20</td>\n      <td>83</td>\n      <td>100</td>\n      <td>5.70</td>\n      <td>overcast clouds</td>\n    </tr>\n    <tr>\n      <th>10</th>\n      <td>10</td>\n      <td>Kiunga</td>\n      <td>NE</td>\n      <td>-6.1219</td>\n      <td>141.2906</td>\n      <td>73.36</td>\n      <td>97</td>\n      <td>100</td>\n      <td>1.90</td>\n      <td>overcast clouds</td>\n    </tr>\n    <tr>\n      <th>15</th>\n      <td>15</td>\n      <td>Tautira</td>\n      <td>NE</td>\n      <td>-17.7333</td>\n      <td>-149.1500</td>\n      <td>77.00</td>\n      <td>73</td>\n      <td>75</td>\n      <td>4.61</td>\n      <td>light rain</td>\n    </tr>\n    <tr>\n      <th>19</th>\n      <td>19</td>\n      <td>Bengkulu</td>\n      <td>NE</td>\n      <td>-3.8004</td>\n      <td>102.2655</td>\n      <td>76.66</td>\n      <td>88</td>\n      <td>100</td>\n      <td>6.06</td>\n      <td>light rain</td>\n    </tr>\n    <tr>\n      <th>20</th>\n      <td>20</td>\n      <td>Vanimo</td>\n      <td>NE</td>\n      <td>-2.6741</td>\n      <td>141.3028</td>\n      <td>79.29</td>\n      <td>83</td>\n      <td>100</td>\n      <td>8.03</td>\n      <td>moderate rain</td>\n    </tr>\n    <tr>\n      <th>...</th>\n      <td>...</td>\n      <td>...</td>\n      <td>...</td>\n      <td>...</td>\n      <td>...</td>\n      <td>...</td>\n      <td>...</td>\n      <td>...</td>\n      <td>...</td>\n      <td>...</td>\n    </tr>\n    <tr>\n      <th>704</th>\n      <td>704</td>\n      <td>Bahia Honda</td>\n      <td>NE</td>\n      <td>22.9036</td>\n      <td>-83.1592</td>\n      <td>71.91</td>\n      <td>62</td>\n      <td>11</td>\n      <td>12.48</td>\n      <td>few clouds</td>\n    </tr>\n    <tr>\n      <th>710</th>\n      <td>710</td>\n      <td>Mawlamyine</td>\n      <td>NE</td>\n      <td>16.4914</td>\n      <td>97.6256</td>\n      <td>76.59</td>\n      <td>76</td>\n      <td>55</td>\n      <td>3.13</td>\n      <td>broken clouds</td>\n    </tr>\n    <tr>\n      <th>714</th>\n      <td>714</td>\n      <td>Sembe</td>\n      <td>NE</td>\n      <td>1.6481</td>\n      <td>14.5806</td>\n      <td>79.52</td>\n      <td>82</td>\n      <td>98</td>\n      <td>2.64</td>\n      <td>light rain</td>\n    </tr>\n    <tr>\n      <th>717</th>\n      <td>717</td>\n      <td>Progreso</td>\n      <td>NE</td>\n      <td>21.2833</td>\n      <td>-89.6667</td>\n      <td>73.99</td>\n      <td>56</td>\n      <td>40</td>\n      <td>5.75</td>\n      <td>scattered clouds</td>\n    </tr>\n    <tr>\n      <th>719</th>\n      <td>719</td>\n      <td>Chalisgaon</td>\n      <td>NE</td>\n      <td>20.4667</td>\n      <td>75.0167</td>\n      <td>72.57</td>\n      <td>27</td>\n      <td>0</td>\n      <td>5.70</td>\n      <td>clear sky</td>\n    </tr>\n  </tbody>\n</table>\n<p>148 rows × 10 columns</p>\n</div>"
     },
     "metadata": {},
     "execution_count": 4
    }
   ],
   "source": [
    "# 3. Filter the city_data_df DataFrame using the input statements to create a new DataFrame using the loc method.\n",
    "preferred_cities_df = city_data_df.loc[(city_data_df[\"Max Temp\"] >= min_temp) &\n",
    "                                       (city_data_df[\"Max Temp\"] <= max_temp)]\n",
    "preferred_cities_df"
   ]
  },
  {
   "cell_type": "code",
   "execution_count": 5,
   "metadata": {},
   "outputs": [
    {
     "output_type": "execute_result",
     "data": {
      "text/plain": [
       "City_ID                0\n",
       "City                   0\n",
       "Country                0\n",
       "Lat                    0\n",
       "Lng                    0\n",
       "Max Temp               0\n",
       "Humidity               0\n",
       "Cloudiness             0\n",
       "Wind Speed             0\n",
       "Current Description    0\n",
       "dtype: int64"
      ]
     },
     "metadata": {},
     "execution_count": 5
    }
   ],
   "source": [
    "# 4a. Determine if there are any empty rows.\n",
    "preferred_cities_df.isnull().sum()"
   ]
  },
  {
   "cell_type": "code",
   "execution_count": 6,
   "metadata": {},
   "outputs": [
    {
     "output_type": "execute_result",
     "data": {
      "text/plain": [
       "     City_ID         City Country      Lat       Lng  Max Temp  Humidity  \\\n",
       "8          8       Cairns      NE -16.9167  145.7667     75.20        83   \n",
       "10        10       Kiunga      NE  -6.1219  141.2906     73.36        97   \n",
       "15        15      Tautira      NE -17.7333 -149.1500     77.00        73   \n",
       "19        19     Bengkulu      NE  -3.8004  102.2655     76.66        88   \n",
       "20        20       Vanimo      NE  -2.6741  141.3028     79.29        83   \n",
       "..       ...          ...     ...      ...       ...       ...       ...   \n",
       "704      704  Bahia Honda      NE  22.9036  -83.1592     71.91        62   \n",
       "710      710   Mawlamyine      NE  16.4914   97.6256     76.59        76   \n",
       "714      714        Sembe      NE   1.6481   14.5806     79.52        82   \n",
       "717      717     Progreso      NE  21.2833  -89.6667     73.99        56   \n",
       "719      719   Chalisgaon      NE  20.4667   75.0167     72.57        27   \n",
       "\n",
       "     Cloudiness  Wind Speed Current Description  \n",
       "8           100        5.70     overcast clouds  \n",
       "10          100        1.90     overcast clouds  \n",
       "15           75        4.61          light rain  \n",
       "19          100        6.06          light rain  \n",
       "20          100        8.03       moderate rain  \n",
       "..          ...         ...                 ...  \n",
       "704          11       12.48          few clouds  \n",
       "710          55        3.13       broken clouds  \n",
       "714          98        2.64          light rain  \n",
       "717          40        5.75    scattered clouds  \n",
       "719           0        5.70           clear sky  \n",
       "\n",
       "[148 rows x 10 columns]"
      ],
      "text/html": "<div>\n<style scoped>\n    .dataframe tbody tr th:only-of-type {\n        vertical-align: middle;\n    }\n\n    .dataframe tbody tr th {\n        vertical-align: top;\n    }\n\n    .dataframe thead th {\n        text-align: right;\n    }\n</style>\n<table border=\"1\" class=\"dataframe\">\n  <thead>\n    <tr style=\"text-align: right;\">\n      <th></th>\n      <th>City_ID</th>\n      <th>City</th>\n      <th>Country</th>\n      <th>Lat</th>\n      <th>Lng</th>\n      <th>Max Temp</th>\n      <th>Humidity</th>\n      <th>Cloudiness</th>\n      <th>Wind Speed</th>\n      <th>Current Description</th>\n    </tr>\n  </thead>\n  <tbody>\n    <tr>\n      <th>8</th>\n      <td>8</td>\n      <td>Cairns</td>\n      <td>NE</td>\n      <td>-16.9167</td>\n      <td>145.7667</td>\n      <td>75.20</td>\n      <td>83</td>\n      <td>100</td>\n      <td>5.70</td>\n      <td>overcast clouds</td>\n    </tr>\n    <tr>\n      <th>10</th>\n      <td>10</td>\n      <td>Kiunga</td>\n      <td>NE</td>\n      <td>-6.1219</td>\n      <td>141.2906</td>\n      <td>73.36</td>\n      <td>97</td>\n      <td>100</td>\n      <td>1.90</td>\n      <td>overcast clouds</td>\n    </tr>\n    <tr>\n      <th>15</th>\n      <td>15</td>\n      <td>Tautira</td>\n      <td>NE</td>\n      <td>-17.7333</td>\n      <td>-149.1500</td>\n      <td>77.00</td>\n      <td>73</td>\n      <td>75</td>\n      <td>4.61</td>\n      <td>light rain</td>\n    </tr>\n    <tr>\n      <th>19</th>\n      <td>19</td>\n      <td>Bengkulu</td>\n      <td>NE</td>\n      <td>-3.8004</td>\n      <td>102.2655</td>\n      <td>76.66</td>\n      <td>88</td>\n      <td>100</td>\n      <td>6.06</td>\n      <td>light rain</td>\n    </tr>\n    <tr>\n      <th>20</th>\n      <td>20</td>\n      <td>Vanimo</td>\n      <td>NE</td>\n      <td>-2.6741</td>\n      <td>141.3028</td>\n      <td>79.29</td>\n      <td>83</td>\n      <td>100</td>\n      <td>8.03</td>\n      <td>moderate rain</td>\n    </tr>\n    <tr>\n      <th>...</th>\n      <td>...</td>\n      <td>...</td>\n      <td>...</td>\n      <td>...</td>\n      <td>...</td>\n      <td>...</td>\n      <td>...</td>\n      <td>...</td>\n      <td>...</td>\n      <td>...</td>\n    </tr>\n    <tr>\n      <th>704</th>\n      <td>704</td>\n      <td>Bahia Honda</td>\n      <td>NE</td>\n      <td>22.9036</td>\n      <td>-83.1592</td>\n      <td>71.91</td>\n      <td>62</td>\n      <td>11</td>\n      <td>12.48</td>\n      <td>few clouds</td>\n    </tr>\n    <tr>\n      <th>710</th>\n      <td>710</td>\n      <td>Mawlamyine</td>\n      <td>NE</td>\n      <td>16.4914</td>\n      <td>97.6256</td>\n      <td>76.59</td>\n      <td>76</td>\n      <td>55</td>\n      <td>3.13</td>\n      <td>broken clouds</td>\n    </tr>\n    <tr>\n      <th>714</th>\n      <td>714</td>\n      <td>Sembe</td>\n      <td>NE</td>\n      <td>1.6481</td>\n      <td>14.5806</td>\n      <td>79.52</td>\n      <td>82</td>\n      <td>98</td>\n      <td>2.64</td>\n      <td>light rain</td>\n    </tr>\n    <tr>\n      <th>717</th>\n      <td>717</td>\n      <td>Progreso</td>\n      <td>NE</td>\n      <td>21.2833</td>\n      <td>-89.6667</td>\n      <td>73.99</td>\n      <td>56</td>\n      <td>40</td>\n      <td>5.75</td>\n      <td>scattered clouds</td>\n    </tr>\n    <tr>\n      <th>719</th>\n      <td>719</td>\n      <td>Chalisgaon</td>\n      <td>NE</td>\n      <td>20.4667</td>\n      <td>75.0167</td>\n      <td>72.57</td>\n      <td>27</td>\n      <td>0</td>\n      <td>5.70</td>\n      <td>clear sky</td>\n    </tr>\n  </tbody>\n</table>\n<p>148 rows × 10 columns</p>\n</div>"
     },
     "metadata": {},
     "execution_count": 6
    }
   ],
   "source": [
    "# 4b. Drop any empty rows and create a new DataFrame that doesn’t have empty rows.\n",
    "clean_df = preferred_cities_df.dropna()\n",
    "clean_df"
   ]
  },
  {
   "cell_type": "code",
   "execution_count": 7,
   "metadata": {},
   "outputs": [
    {
     "output_type": "execute_result",
     "data": {
      "text/plain": [
       "        City Country  Max Temp Current Description      Lat       Lng  \\\n",
       "8     Cairns      NE     75.20     overcast clouds -16.9167  145.7667   \n",
       "10    Kiunga      NE     73.36     overcast clouds  -6.1219  141.2906   \n",
       "15   Tautira      NE     77.00          light rain -17.7333 -149.1500   \n",
       "19  Bengkulu      NE     76.66          light rain  -3.8004  102.2655   \n",
       "20    Vanimo      NE     79.29       moderate rain  -2.6741  141.3028   \n",
       "21     Vaini      NE     73.40          light rain -21.2000 -175.2000   \n",
       "22    Padang      NE     78.10     overcast clouds  -0.9492  100.3543   \n",
       "23       Vao      NE     76.12    scattered clouds -22.6667  167.4833   \n",
       "28    Najran      NE     77.00           clear sky  17.4924   44.1277   \n",
       "29   Rikitea      NE     78.75          light rain -23.1203 -134.9692   \n",
       "\n",
       "   Hotel Name  \n",
       "8              \n",
       "10             \n",
       "15             \n",
       "19             \n",
       "20             \n",
       "21             \n",
       "22             \n",
       "23             \n",
       "28             \n",
       "29             "
      ],
      "text/html": "<div>\n<style scoped>\n    .dataframe tbody tr th:only-of-type {\n        vertical-align: middle;\n    }\n\n    .dataframe tbody tr th {\n        vertical-align: top;\n    }\n\n    .dataframe thead th {\n        text-align: right;\n    }\n</style>\n<table border=\"1\" class=\"dataframe\">\n  <thead>\n    <tr style=\"text-align: right;\">\n      <th></th>\n      <th>City</th>\n      <th>Country</th>\n      <th>Max Temp</th>\n      <th>Current Description</th>\n      <th>Lat</th>\n      <th>Lng</th>\n      <th>Hotel Name</th>\n    </tr>\n  </thead>\n  <tbody>\n    <tr>\n      <th>8</th>\n      <td>Cairns</td>\n      <td>NE</td>\n      <td>75.20</td>\n      <td>overcast clouds</td>\n      <td>-16.9167</td>\n      <td>145.7667</td>\n      <td></td>\n    </tr>\n    <tr>\n      <th>10</th>\n      <td>Kiunga</td>\n      <td>NE</td>\n      <td>73.36</td>\n      <td>overcast clouds</td>\n      <td>-6.1219</td>\n      <td>141.2906</td>\n      <td></td>\n    </tr>\n    <tr>\n      <th>15</th>\n      <td>Tautira</td>\n      <td>NE</td>\n      <td>77.00</td>\n      <td>light rain</td>\n      <td>-17.7333</td>\n      <td>-149.1500</td>\n      <td></td>\n    </tr>\n    <tr>\n      <th>19</th>\n      <td>Bengkulu</td>\n      <td>NE</td>\n      <td>76.66</td>\n      <td>light rain</td>\n      <td>-3.8004</td>\n      <td>102.2655</td>\n      <td></td>\n    </tr>\n    <tr>\n      <th>20</th>\n      <td>Vanimo</td>\n      <td>NE</td>\n      <td>79.29</td>\n      <td>moderate rain</td>\n      <td>-2.6741</td>\n      <td>141.3028</td>\n      <td></td>\n    </tr>\n    <tr>\n      <th>21</th>\n      <td>Vaini</td>\n      <td>NE</td>\n      <td>73.40</td>\n      <td>light rain</td>\n      <td>-21.2000</td>\n      <td>-175.2000</td>\n      <td></td>\n    </tr>\n    <tr>\n      <th>22</th>\n      <td>Padang</td>\n      <td>NE</td>\n      <td>78.10</td>\n      <td>overcast clouds</td>\n      <td>-0.9492</td>\n      <td>100.3543</td>\n      <td></td>\n    </tr>\n    <tr>\n      <th>23</th>\n      <td>Vao</td>\n      <td>NE</td>\n      <td>76.12</td>\n      <td>scattered clouds</td>\n      <td>-22.6667</td>\n      <td>167.4833</td>\n      <td></td>\n    </tr>\n    <tr>\n      <th>28</th>\n      <td>Najran</td>\n      <td>NE</td>\n      <td>77.00</td>\n      <td>clear sky</td>\n      <td>17.4924</td>\n      <td>44.1277</td>\n      <td></td>\n    </tr>\n    <tr>\n      <th>29</th>\n      <td>Rikitea</td>\n      <td>NE</td>\n      <td>78.75</td>\n      <td>light rain</td>\n      <td>-23.1203</td>\n      <td>-134.9692</td>\n      <td></td>\n    </tr>\n  </tbody>\n</table>\n</div>"
     },
     "metadata": {},
     "execution_count": 7
    }
   ],
   "source": [
    "# 5a. Create DataFrame called hotel_df to store hotel names along with city, country, max temp, and coordinates.\n",
    "hotel_df = clean_df[[\"City\", \"Country\", \"Max Temp\", \"Current Description\", \"Lat\", \"Lng\"]].copy()\n",
    "\n",
    "# 5b. Create a new column \"Hotel Name\"\n",
    "hotel_df[\"Hotel Name\"] = \"\"\n",
    "hotel_df.head(10)"
   ]
  },
  {
   "cell_type": "code",
   "execution_count": 10,
   "metadata": {},
   "outputs": [
    {
     "output_type": "stream",
     "name": "stdout",
     "text": [
      "Hotel not found... skipping.\n",
      "Hotel not found... skipping.\n",
      "Hotel not found... skipping.\n",
      "Hotel not found... skipping.\n",
      "Hotel not found... skipping.\n",
      "Hotel not found... skipping.\n",
      "Hotel not found... skipping.\n",
      "Hotel not found... skipping.\n",
      "Hotel not found... skipping.\n",
      "Hotel not found... skipping.\n",
      "Hotel not found... skipping.\n"
     ]
    }
   ],
   "source": [
    "# 6a. Set parameters to search for hotels with 5000 meters.\n",
    "params = {\n",
    "    \"radius\": 5000,\n",
    "    \"type\": \"lodging\",\n",
    "    \"key\": g_key}\n",
    "\n",
    "# 6b. Iterate through the hotel DataFrame.\n",
    "for index, row in hotel_df.iterrows():\n",
    "\n",
    "    # 6c. Get latitude and longitude from DataFrame\n",
    "    lat = row[\"Lat\"]\n",
    "    lng = row[\"Lng\"]\n",
    "    params[\"location\"] = f\"{lat},{lng}\"\n",
    "    \n",
    "    # 6d. Set up the base URL for the Google Directions API to get JSON data.\n",
    "    base_url = \"https://maps.googleapis.com/maps/api/place/nearbysearch/json\"\n",
    "\n",
    "    # 6e. Make request and retrieve the JSON data from the search. \n",
    "    hotels = requests.get(base_url, params=params).json()\n",
    "    \n",
    "    # 6f. Get the first hotel from the results and store the name, if a hotel isn't found skip the city.\n",
    "    try:\n",
    "        hotel_df.loc[index, \"Hotel Name\"] = hotels[\"results\"][0][\"name\"]\n",
    "    except (IndexError):\n",
    "        print(\"Hotel not found... skipping.\")\n",
    "        "
   ]
  },
  {
   "cell_type": "code",
   "execution_count": 20,
   "metadata": {},
   "outputs": [
    {
     "output_type": "execute_result",
     "data": {
      "text/plain": [
       "            City Country  Max Temp Current Description      Lat       Lng  \\\n",
       "8         Cairns      NE     75.20     overcast clouds -16.9167  145.7667   \n",
       "10        Kiunga      NE     73.36     overcast clouds  -6.1219  141.2906   \n",
       "15       Tautira      NE     77.00          light rain -17.7333 -149.1500   \n",
       "19      Bengkulu      NE     76.66          light rain  -3.8004  102.2655   \n",
       "20        Vanimo      NE     79.29       moderate rain  -2.6741  141.3028   \n",
       "..           ...     ...       ...                 ...      ...       ...   \n",
       "699     Mazamari      NE     73.17     overcast clouds -11.3258  -74.5308   \n",
       "704  Bahia Honda      NE     71.91          few clouds  22.9036  -83.1592   \n",
       "710   Mawlamyine      NE     76.59       broken clouds  16.4914   97.6256   \n",
       "717     Progreso      NE     73.99    scattered clouds  21.2833  -89.6667   \n",
       "719   Chalisgaon      NE     72.57           clear sky  20.4667   75.0167   \n",
       "\n",
       "                 Hotel Name  \n",
       "8     Mantra Trilogy Cairns  \n",
       "10     Airport Lodge Kiunga  \n",
       "15             Pension Oaoa  \n",
       "19     Grage Hotel Bengkulu  \n",
       "20    Vahmoneh Lodge Vanimo  \n",
       "..                      ...  \n",
       "699         Hospedaje Ratto  \n",
       "704  Casa Gualberto - Deysi  \n",
       "710        Sandalwood Hotel  \n",
       "717       Playa Linda Hotel  \n",
       "719             Shree Datta  \n",
       "\n",
       "[137 rows x 7 columns]"
      ],
      "text/html": "<div>\n<style scoped>\n    .dataframe tbody tr th:only-of-type {\n        vertical-align: middle;\n    }\n\n    .dataframe tbody tr th {\n        vertical-align: top;\n    }\n\n    .dataframe thead th {\n        text-align: right;\n    }\n</style>\n<table border=\"1\" class=\"dataframe\">\n  <thead>\n    <tr style=\"text-align: right;\">\n      <th></th>\n      <th>City</th>\n      <th>Country</th>\n      <th>Max Temp</th>\n      <th>Current Description</th>\n      <th>Lat</th>\n      <th>Lng</th>\n      <th>Hotel Name</th>\n    </tr>\n  </thead>\n  <tbody>\n    <tr>\n      <th>8</th>\n      <td>Cairns</td>\n      <td>NE</td>\n      <td>75.20</td>\n      <td>overcast clouds</td>\n      <td>-16.9167</td>\n      <td>145.7667</td>\n      <td>Mantra Trilogy Cairns</td>\n    </tr>\n    <tr>\n      <th>10</th>\n      <td>Kiunga</td>\n      <td>NE</td>\n      <td>73.36</td>\n      <td>overcast clouds</td>\n      <td>-6.1219</td>\n      <td>141.2906</td>\n      <td>Airport Lodge Kiunga</td>\n    </tr>\n    <tr>\n      <th>15</th>\n      <td>Tautira</td>\n      <td>NE</td>\n      <td>77.00</td>\n      <td>light rain</td>\n      <td>-17.7333</td>\n      <td>-149.1500</td>\n      <td>Pension Oaoa</td>\n    </tr>\n    <tr>\n      <th>19</th>\n      <td>Bengkulu</td>\n      <td>NE</td>\n      <td>76.66</td>\n      <td>light rain</td>\n      <td>-3.8004</td>\n      <td>102.2655</td>\n      <td>Grage Hotel Bengkulu</td>\n    </tr>\n    <tr>\n      <th>20</th>\n      <td>Vanimo</td>\n      <td>NE</td>\n      <td>79.29</td>\n      <td>moderate rain</td>\n      <td>-2.6741</td>\n      <td>141.3028</td>\n      <td>Vahmoneh Lodge Vanimo</td>\n    </tr>\n    <tr>\n      <th>...</th>\n      <td>...</td>\n      <td>...</td>\n      <td>...</td>\n      <td>...</td>\n      <td>...</td>\n      <td>...</td>\n      <td>...</td>\n    </tr>\n    <tr>\n      <th>699</th>\n      <td>Mazamari</td>\n      <td>NE</td>\n      <td>73.17</td>\n      <td>overcast clouds</td>\n      <td>-11.3258</td>\n      <td>-74.5308</td>\n      <td>Hospedaje Ratto</td>\n    </tr>\n    <tr>\n      <th>704</th>\n      <td>Bahia Honda</td>\n      <td>NE</td>\n      <td>71.91</td>\n      <td>few clouds</td>\n      <td>22.9036</td>\n      <td>-83.1592</td>\n      <td>Casa Gualberto - Deysi</td>\n    </tr>\n    <tr>\n      <th>710</th>\n      <td>Mawlamyine</td>\n      <td>NE</td>\n      <td>76.59</td>\n      <td>broken clouds</td>\n      <td>16.4914</td>\n      <td>97.6256</td>\n      <td>Sandalwood Hotel</td>\n    </tr>\n    <tr>\n      <th>717</th>\n      <td>Progreso</td>\n      <td>NE</td>\n      <td>73.99</td>\n      <td>scattered clouds</td>\n      <td>21.2833</td>\n      <td>-89.6667</td>\n      <td>Playa Linda Hotel</td>\n    </tr>\n    <tr>\n      <th>719</th>\n      <td>Chalisgaon</td>\n      <td>NE</td>\n      <td>72.57</td>\n      <td>clear sky</td>\n      <td>20.4667</td>\n      <td>75.0167</td>\n      <td>Shree Datta</td>\n    </tr>\n  </tbody>\n</table>\n<p>137 rows × 7 columns</p>\n</div>"
     },
     "metadata": {},
     "execution_count": 20
    }
   ],
   "source": [
    "# 7. Drop the rows where there is no Hotel Name.\n",
    "clean = hotel_df.replace(r'^\\s*$', np.nan, regex=True)\n",
    "clean_hotel_df = clean.dropna()\n",
    "clean_hotel_df"
   ]
  },
  {
   "cell_type": "code",
   "execution_count": 21,
   "metadata": {},
   "outputs": [],
   "source": [
    "# 8a. Create the output File (CSV)\n",
    "output_data_file = \"WeatherPy_vacation.csv\"\n",
    "# 8b. Export the City_Data into a csv\n",
    "clean_hotel_df.to_csv(output_data_file, index_label=\"City_ID\")"
   ]
  },
  {
   "cell_type": "code",
   "execution_count": 25,
   "metadata": {},
   "outputs": [],
   "source": [
    "# 9. Using the template add city name, the country code, the weather description and maximum temperature for the city.\n",
    "info_box_template = \"\"\"\n",
    "<dl>\n",
    "<dt>Hotel Name</dt><dd>{Hotel Name}</dd>\n",
    "<dt>City</dt><dd>{City}</dd>\n",
    "<dt>Country</dt><dd>{Country}</dd>\n",
    "<dt>Weather Description</dt><dd>{Current Description}</dd>\n",
    "<dt>Max Temp</dt><dd>{Max Temp} °F</dd>\n",
    "</dl>\n",
    "\"\"\"\n",
    "\n",
    "# 10a. Get the data from each row and add it to the formatting template and store the data in a list.\n",
    "hotel_info = [info_box_template.format(**row) for index, row in clean_hotel_df.iterrows()]\n",
    "\n",
    "# 10b. Get the latitude and longitude from each row and store in a new DataFrame.\n",
    "locations = clean_hotel_df[[\"Lat\", \"Lng\"]]"
   ]
  },
  {
   "cell_type": "code",
   "execution_count": 26,
   "metadata": {},
   "outputs": [
    {
     "output_type": "display_data",
     "data": {
      "text/plain": "Figure(layout=FigureLayout(height='420px'))",
      "application/vnd.jupyter.widget-view+json": {
       "version_major": 2,
       "version_minor": 0,
       "model_id": "3a6bad31a63749778c2dd511c6140d6d"
      }
     },
     "metadata": {}
    }
   ],
   "source": [
    "# 11a. Add a marker layer for each city to the map. \n",
    "marker_layer = gmaps.marker_layer(locations, info_box_content=hotel_info)\n",
    "# 11b. Display the figure\n",
    "fig = gmaps.figure(center=(30.0, 31.0), zoom_level=1.5)\n",
    "fig.add_layer(marker_layer)\n",
    "fig"
   ]
  },
  {
   "cell_type": "code",
   "execution_count": null,
   "metadata": {},
   "outputs": [],
   "source": []
  },
  {
   "cell_type": "code",
   "execution_count": null,
   "metadata": {},
   "outputs": [],
   "source": []
  }
 ],
 "metadata": {
  "kernelspec": {
   "display_name": "PythonData",
   "language": "python",
   "name": "pythondata"
  },
  "language_info": {
   "codemirror_mode": {
    "name": "ipython",
    "version": 3
   },
   "file_extension": ".py",
   "mimetype": "text/x-python",
   "name": "python",
   "nbconvert_exporter": "python",
   "pygments_lexer": "ipython3",
   "version": "3.8.5-final"
  },
  "latex_envs": {
   "LaTeX_envs_menu_present": true,
   "autoclose": false,
   "autocomplete": true,
   "bibliofile": "biblio.bib",
   "cite_by": "apalike",
   "current_citInitial": 1,
   "eqLabelWithNumbers": true,
   "eqNumInitial": 1,
   "hotkeys": {
    "equation": "Ctrl-E",
    "itemize": "Ctrl-I"
   },
   "labels_anchors": false,
   "latex_user_defs": false,
   "report_style_numbering": false,
   "user_envs_cfg": false
  }
 },
 "nbformat": 4,
 "nbformat_minor": 2
}