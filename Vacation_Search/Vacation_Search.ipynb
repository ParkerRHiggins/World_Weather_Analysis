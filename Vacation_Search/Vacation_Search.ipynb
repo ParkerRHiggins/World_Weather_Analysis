{
 "cells": [
  {
   "cell_type": "markdown",
   "metadata": {},
   "source": [
    "## Deliverable 2. Create a Customer Travel Destinations Map."
   ]
  },
  {
   "cell_type": "code",
   "execution_count": 1,
   "metadata": {},
   "outputs": [
    {
     "output_type": "error",
     "ename": "ModuleNotFoundError",
     "evalue": "No module named 'config'",
     "traceback": [
      "\u001b[0;31m---------------------------------------------------------------------------\u001b[0m",
      "\u001b[0;31mModuleNotFoundError\u001b[0m                       Traceback (most recent call last)",
      "\u001b[0;32m<ipython-input-1-bbebaab819ca>\u001b[0m in \u001b[0;36m<module>\u001b[0;34m\u001b[0m\n\u001b[1;32m      6\u001b[0m \u001b[0;34m\u001b[0m\u001b[0m\n\u001b[1;32m      7\u001b[0m \u001b[0;31m# Import API key\u001b[0m\u001b[0;34m\u001b[0m\u001b[0;34m\u001b[0m\u001b[0;34m\u001b[0m\u001b[0m\n\u001b[0;32m----> 8\u001b[0;31m \u001b[0;32mfrom\u001b[0m \u001b[0mconfig\u001b[0m \u001b[0;32mimport\u001b[0m \u001b[0mg_key\u001b[0m\u001b[0;34m\u001b[0m\u001b[0;34m\u001b[0m\u001b[0m\n\u001b[0m\u001b[1;32m      9\u001b[0m \u001b[0;34m\u001b[0m\u001b[0m\n\u001b[1;32m     10\u001b[0m \u001b[0;31m# Configure gmaps API key\u001b[0m\u001b[0;34m\u001b[0m\u001b[0;34m\u001b[0m\u001b[0;34m\u001b[0m\u001b[0m\n",
      "\u001b[0;31mModuleNotFoundError\u001b[0m: No module named 'config'"
     ]
    }
   ],
   "source": [
    "# Dependencies and Setup\n",
    "import pandas as pd\n",
    "import requests\n",
    "import gmaps\n",
    "import numpy as np\n",
    "\n",
    "# Import API key\n",
    "from config import g_key\n",
    "\n",
    "# Configure gmaps API key\n",
    "gmaps.configure(api_key=g_key)"
   ]
  },
  {
   "cell_type": "code",
   "execution_count": 4,
   "metadata": {},
   "outputs": [
    {
     "output_type": "execute_result",
     "data": {
      "text/plain": [
       "   City_ID                   City Country      Lat       Lng  Max Temp  \\\n",
       "0        0                 Torbay      NE  47.6666  -52.7314     30.00   \n",
       "1        1                Mataura      NE -46.1927  168.8643     48.00   \n",
       "2        2                Winslow      NE  35.0242 -110.6974     21.20   \n",
       "3        3  Los Llanos De Aridane      NE  28.6585  -17.9182     68.00   \n",
       "4        4               Culiacan      NE  24.7994 -107.3897     66.99   \n",
       "\n",
       "   Humidity  Cloudiness  Wind Speed Current Description  \n",
       "0        93          90       21.85     overcast clouds  \n",
       "1        80          23        8.01          few clouds  \n",
       "2        79           1        4.03           clear sky  \n",
       "3        68          40       13.80    scattered clouds  \n",
       "4        82           1        2.04           clear sky  "
      ],
      "text/html": "<div>\n<style scoped>\n    .dataframe tbody tr th:only-of-type {\n        vertical-align: middle;\n    }\n\n    .dataframe tbody tr th {\n        vertical-align: top;\n    }\n\n    .dataframe thead th {\n        text-align: right;\n    }\n</style>\n<table border=\"1\" class=\"dataframe\">\n  <thead>\n    <tr style=\"text-align: right;\">\n      <th></th>\n      <th>City_ID</th>\n      <th>City</th>\n      <th>Country</th>\n      <th>Lat</th>\n      <th>Lng</th>\n      <th>Max Temp</th>\n      <th>Humidity</th>\n      <th>Cloudiness</th>\n      <th>Wind Speed</th>\n      <th>Current Description</th>\n    </tr>\n  </thead>\n  <tbody>\n    <tr>\n      <th>0</th>\n      <td>0</td>\n      <td>Torbay</td>\n      <td>NE</td>\n      <td>47.6666</td>\n      <td>-52.7314</td>\n      <td>30.00</td>\n      <td>93</td>\n      <td>90</td>\n      <td>21.85</td>\n      <td>overcast clouds</td>\n    </tr>\n    <tr>\n      <th>1</th>\n      <td>1</td>\n      <td>Mataura</td>\n      <td>NE</td>\n      <td>-46.1927</td>\n      <td>168.8643</td>\n      <td>48.00</td>\n      <td>80</td>\n      <td>23</td>\n      <td>8.01</td>\n      <td>few clouds</td>\n    </tr>\n    <tr>\n      <th>2</th>\n      <td>2</td>\n      <td>Winslow</td>\n      <td>NE</td>\n      <td>35.0242</td>\n      <td>-110.6974</td>\n      <td>21.20</td>\n      <td>79</td>\n      <td>1</td>\n      <td>4.03</td>\n      <td>clear sky</td>\n    </tr>\n    <tr>\n      <th>3</th>\n      <td>3</td>\n      <td>Los Llanos De Aridane</td>\n      <td>NE</td>\n      <td>28.6585</td>\n      <td>-17.9182</td>\n      <td>68.00</td>\n      <td>68</td>\n      <td>40</td>\n      <td>13.80</td>\n      <td>scattered clouds</td>\n    </tr>\n    <tr>\n      <th>4</th>\n      <td>4</td>\n      <td>Culiacan</td>\n      <td>NE</td>\n      <td>24.7994</td>\n      <td>-107.3897</td>\n      <td>66.99</td>\n      <td>82</td>\n      <td>1</td>\n      <td>2.04</td>\n      <td>clear sky</td>\n    </tr>\n  </tbody>\n</table>\n</div>"
     },
     "metadata": {},
     "execution_count": 4
    }
   ],
   "source": [
    "# 1. Import the WeatherPy_database.csv file. \n",
    "city_data_df = pd.read_csv(\"../Weather_Database/WeatherPy_Database.csv\")\n",
    "city_data_df.head()"
   ]
  },
  {
   "cell_type": "code",
   "execution_count": 13,
   "metadata": {},
   "outputs": [
    {
     "output_type": "execute_result",
     "data": {
      "text/plain": [
       "(60.0, 80.0)"
      ]
     },
     "metadata": {},
     "execution_count": 13
    }
   ],
   "source": [
    "# 2. Prompt the user to enter minimum and maximum temperature criteria \n",
    "min_temp = float(input(\"What is your desired minimum temperature for your vacation? \"))\n",
    "max_temp = float(input(\"What is your desired maximum temperature for your vacation? \"))\n",
    "\n",
    "min_temp, max_temp"
   ]
  },
  {
   "cell_type": "code",
   "execution_count": 14,
   "metadata": {},
   "outputs": [
    {
     "output_type": "execute_result",
     "data": {
      "text/plain": [
       "     City_ID                   City Country      Lat       Lng  Max Temp  \\\n",
       "3          3  Los Llanos De Aridane      NE  28.6585  -17.9182     68.00   \n",
       "4          4               Culiacan      NE  24.7994 -107.3897     66.99   \n",
       "8          8                 Cairns      NE -16.9167  145.7667     75.20   \n",
       "10        10                 Kiunga      NE  -6.1219  141.2906     73.36   \n",
       "11        11                   Hilo      NE  19.7297 -155.0900     66.20   \n",
       "..       ...                    ...     ...      ...       ...       ...   \n",
       "704      704            Bahia Honda      NE  22.9036  -83.1592     71.91   \n",
       "710      710             Mawlamyine      NE  16.4914   97.6256     76.59   \n",
       "714      714                  Sembe      NE   1.6481   14.5806     79.52   \n",
       "717      717               Progreso      NE  21.2833  -89.6667     73.99   \n",
       "719      719             Chalisgaon      NE  20.4667   75.0167     72.57   \n",
       "\n",
       "     Humidity  Cloudiness  Wind Speed Current Description  \n",
       "3          68          40       13.80    scattered clouds  \n",
       "4          82           1        2.04           clear sky  \n",
       "8          83         100        5.70     overcast clouds  \n",
       "10         97         100        1.90     overcast clouds  \n",
       "11         94          90        8.05          light rain  \n",
       "..        ...         ...         ...                 ...  \n",
       "704        62          11       12.48          few clouds  \n",
       "710        76          55        3.13       broken clouds  \n",
       "714        82          98        2.64          light rain  \n",
       "717        56          40        5.75    scattered clouds  \n",
       "719        27           0        5.70           clear sky  \n",
       "\n",
       "[223 rows x 10 columns]"
      ],
      "text/html": "<div>\n<style scoped>\n    .dataframe tbody tr th:only-of-type {\n        vertical-align: middle;\n    }\n\n    .dataframe tbody tr th {\n        vertical-align: top;\n    }\n\n    .dataframe thead th {\n        text-align: right;\n    }\n</style>\n<table border=\"1\" class=\"dataframe\">\n  <thead>\n    <tr style=\"text-align: right;\">\n      <th></th>\n      <th>City_ID</th>\n      <th>City</th>\n      <th>Country</th>\n      <th>Lat</th>\n      <th>Lng</th>\n      <th>Max Temp</th>\n      <th>Humidity</th>\n      <th>Cloudiness</th>\n      <th>Wind Speed</th>\n      <th>Current Description</th>\n    </tr>\n  </thead>\n  <tbody>\n    <tr>\n      <th>3</th>\n      <td>3</td>\n      <td>Los Llanos De Aridane</td>\n      <td>NE</td>\n      <td>28.6585</td>\n      <td>-17.9182</td>\n      <td>68.00</td>\n      <td>68</td>\n      <td>40</td>\n      <td>13.80</td>\n      <td>scattered clouds</td>\n    </tr>\n    <tr>\n      <th>4</th>\n      <td>4</td>\n      <td>Culiacan</td>\n      <td>NE</td>\n      <td>24.7994</td>\n      <td>-107.3897</td>\n      <td>66.99</td>\n      <td>82</td>\n      <td>1</td>\n      <td>2.04</td>\n      <td>clear sky</td>\n    </tr>\n    <tr>\n      <th>8</th>\n      <td>8</td>\n      <td>Cairns</td>\n      <td>NE</td>\n      <td>-16.9167</td>\n      <td>145.7667</td>\n      <td>75.20</td>\n      <td>83</td>\n      <td>100</td>\n      <td>5.70</td>\n      <td>overcast clouds</td>\n    </tr>\n    <tr>\n      <th>10</th>\n      <td>10</td>\n      <td>Kiunga</td>\n      <td>NE</td>\n      <td>-6.1219</td>\n      <td>141.2906</td>\n      <td>73.36</td>\n      <td>97</td>\n      <td>100</td>\n      <td>1.90</td>\n      <td>overcast clouds</td>\n    </tr>\n    <tr>\n      <th>11</th>\n      <td>11</td>\n      <td>Hilo</td>\n      <td>NE</td>\n      <td>19.7297</td>\n      <td>-155.0900</td>\n      <td>66.20</td>\n      <td>94</td>\n      <td>90</td>\n      <td>8.05</td>\n      <td>light rain</td>\n    </tr>\n    <tr>\n      <th>...</th>\n      <td>...</td>\n      <td>...</td>\n      <td>...</td>\n      <td>...</td>\n      <td>...</td>\n      <td>...</td>\n      <td>...</td>\n      <td>...</td>\n      <td>...</td>\n      <td>...</td>\n    </tr>\n    <tr>\n      <th>704</th>\n      <td>704</td>\n      <td>Bahia Honda</td>\n      <td>NE</td>\n      <td>22.9036</td>\n      <td>-83.1592</td>\n      <td>71.91</td>\n      <td>62</td>\n      <td>11</td>\n      <td>12.48</td>\n      <td>few clouds</td>\n    </tr>\n    <tr>\n      <th>710</th>\n      <td>710</td>\n      <td>Mawlamyine</td>\n      <td>NE</td>\n      <td>16.4914</td>\n      <td>97.6256</td>\n      <td>76.59</td>\n      <td>76</td>\n      <td>55</td>\n      <td>3.13</td>\n      <td>broken clouds</td>\n    </tr>\n    <tr>\n      <th>714</th>\n      <td>714</td>\n      <td>Sembe</td>\n      <td>NE</td>\n      <td>1.6481</td>\n      <td>14.5806</td>\n      <td>79.52</td>\n      <td>82</td>\n      <td>98</td>\n      <td>2.64</td>\n      <td>light rain</td>\n    </tr>\n    <tr>\n      <th>717</th>\n      <td>717</td>\n      <td>Progreso</td>\n      <td>NE</td>\n      <td>21.2833</td>\n      <td>-89.6667</td>\n      <td>73.99</td>\n      <td>56</td>\n      <td>40</td>\n      <td>5.75</td>\n      <td>scattered clouds</td>\n    </tr>\n    <tr>\n      <th>719</th>\n      <td>719</td>\n      <td>Chalisgaon</td>\n      <td>NE</td>\n      <td>20.4667</td>\n      <td>75.0167</td>\n      <td>72.57</td>\n      <td>27</td>\n      <td>0</td>\n      <td>5.70</td>\n      <td>clear sky</td>\n    </tr>\n  </tbody>\n</table>\n<p>223 rows × 10 columns</p>\n</div>"
     },
     "metadata": {},
     "execution_count": 14
    }
   ],
   "source": [
    "# 3. Filter the city_data_df DataFrame using the input statements to create a new DataFrame using the loc method.\n",
    "preferred_cities_df = city_data_df.loc[(city_data_df[\"Max Temp\"] >= min_temp) &\n",
    "                                       (city_data_df[\"Max Temp\"] <= max_temp)]\n",
    "preferred_cities_df"
   ]
  },
  {
   "cell_type": "code",
   "execution_count": 9,
   "metadata": {},
   "outputs": [
    {
     "output_type": "execute_result",
     "data": {
      "text/plain": [
       "City_ID                0\n",
       "City                   0\n",
       "Country                0\n",
       "Lat                    0\n",
       "Lng                    0\n",
       "Max Temp               0\n",
       "Humidity               0\n",
       "Cloudiness             0\n",
       "Wind Speed             0\n",
       "Current Description    0\n",
       "dtype: int64"
      ]
     },
     "metadata": {},
     "execution_count": 9
    }
   ],
   "source": [
    "# 4a. Determine if there are any empty rows.\n",
    "preferred_cities_df.isnull().sum()"
   ]
  },
  {
   "cell_type": "code",
   "execution_count": 10,
   "metadata": {},
   "outputs": [
    {
     "output_type": "execute_result",
     "data": {
      "text/plain": [
       "     City_ID                   City Country      Lat       Lng  Max Temp  \\\n",
       "3          3  Los Llanos De Aridane      NE  28.6585  -17.9182     68.00   \n",
       "4          4               Culiacan      NE  24.7994 -107.3897     66.99   \n",
       "8          8                 Cairns      NE -16.9167  145.7667     75.20   \n",
       "10        10                 Kiunga      NE  -6.1219  141.2906     73.36   \n",
       "11        11                   Hilo      NE  19.7297 -155.0900     66.20   \n",
       "..       ...                    ...     ...      ...       ...       ...   \n",
       "704      704            Bahia Honda      NE  22.9036  -83.1592     71.91   \n",
       "710      710             Mawlamyine      NE  16.4914   97.6256     76.59   \n",
       "714      714                  Sembe      NE   1.6481   14.5806     79.52   \n",
       "717      717               Progreso      NE  21.2833  -89.6667     73.99   \n",
       "719      719             Chalisgaon      NE  20.4667   75.0167     72.57   \n",
       "\n",
       "     Humidity  Cloudiness  Wind Speed Current Description  \n",
       "3          68          40       13.80    scattered clouds  \n",
       "4          82           1        2.04           clear sky  \n",
       "8          83         100        5.70     overcast clouds  \n",
       "10         97         100        1.90     overcast clouds  \n",
       "11         94          90        8.05          light rain  \n",
       "..        ...         ...         ...                 ...  \n",
       "704        62          11       12.48          few clouds  \n",
       "710        76          55        3.13       broken clouds  \n",
       "714        82          98        2.64          light rain  \n",
       "717        56          40        5.75    scattered clouds  \n",
       "719        27           0        5.70           clear sky  \n",
       "\n",
       "[223 rows x 10 columns]"
      ],
      "text/html": "<div>\n<style scoped>\n    .dataframe tbody tr th:only-of-type {\n        vertical-align: middle;\n    }\n\n    .dataframe tbody tr th {\n        vertical-align: top;\n    }\n\n    .dataframe thead th {\n        text-align: right;\n    }\n</style>\n<table border=\"1\" class=\"dataframe\">\n  <thead>\n    <tr style=\"text-align: right;\">\n      <th></th>\n      <th>City_ID</th>\n      <th>City</th>\n      <th>Country</th>\n      <th>Lat</th>\n      <th>Lng</th>\n      <th>Max Temp</th>\n      <th>Humidity</th>\n      <th>Cloudiness</th>\n      <th>Wind Speed</th>\n      <th>Current Description</th>\n    </tr>\n  </thead>\n  <tbody>\n    <tr>\n      <th>3</th>\n      <td>3</td>\n      <td>Los Llanos De Aridane</td>\n      <td>NE</td>\n      <td>28.6585</td>\n      <td>-17.9182</td>\n      <td>68.00</td>\n      <td>68</td>\n      <td>40</td>\n      <td>13.80</td>\n      <td>scattered clouds</td>\n    </tr>\n    <tr>\n      <th>4</th>\n      <td>4</td>\n      <td>Culiacan</td>\n      <td>NE</td>\n      <td>24.7994</td>\n      <td>-107.3897</td>\n      <td>66.99</td>\n      <td>82</td>\n      <td>1</td>\n      <td>2.04</td>\n      <td>clear sky</td>\n    </tr>\n    <tr>\n      <th>8</th>\n      <td>8</td>\n      <td>Cairns</td>\n      <td>NE</td>\n      <td>-16.9167</td>\n      <td>145.7667</td>\n      <td>75.20</td>\n      <td>83</td>\n      <td>100</td>\n      <td>5.70</td>\n      <td>overcast clouds</td>\n    </tr>\n    <tr>\n      <th>10</th>\n      <td>10</td>\n      <td>Kiunga</td>\n      <td>NE</td>\n      <td>-6.1219</td>\n      <td>141.2906</td>\n      <td>73.36</td>\n      <td>97</td>\n      <td>100</td>\n      <td>1.90</td>\n      <td>overcast clouds</td>\n    </tr>\n    <tr>\n      <th>11</th>\n      <td>11</td>\n      <td>Hilo</td>\n      <td>NE</td>\n      <td>19.7297</td>\n      <td>-155.0900</td>\n      <td>66.20</td>\n      <td>94</td>\n      <td>90</td>\n      <td>8.05</td>\n      <td>light rain</td>\n    </tr>\n    <tr>\n      <th>...</th>\n      <td>...</td>\n      <td>...</td>\n      <td>...</td>\n      <td>...</td>\n      <td>...</td>\n      <td>...</td>\n      <td>...</td>\n      <td>...</td>\n      <td>...</td>\n      <td>...</td>\n    </tr>\n    <tr>\n      <th>704</th>\n      <td>704</td>\n      <td>Bahia Honda</td>\n      <td>NE</td>\n      <td>22.9036</td>\n      <td>-83.1592</td>\n      <td>71.91</td>\n      <td>62</td>\n      <td>11</td>\n      <td>12.48</td>\n      <td>few clouds</td>\n    </tr>\n    <tr>\n      <th>710</th>\n      <td>710</td>\n      <td>Mawlamyine</td>\n      <td>NE</td>\n      <td>16.4914</td>\n      <td>97.6256</td>\n      <td>76.59</td>\n      <td>76</td>\n      <td>55</td>\n      <td>3.13</td>\n      <td>broken clouds</td>\n    </tr>\n    <tr>\n      <th>714</th>\n      <td>714</td>\n      <td>Sembe</td>\n      <td>NE</td>\n      <td>1.6481</td>\n      <td>14.5806</td>\n      <td>79.52</td>\n      <td>82</td>\n      <td>98</td>\n      <td>2.64</td>\n      <td>light rain</td>\n    </tr>\n    <tr>\n      <th>717</th>\n      <td>717</td>\n      <td>Progreso</td>\n      <td>NE</td>\n      <td>21.2833</td>\n      <td>-89.6667</td>\n      <td>73.99</td>\n      <td>56</td>\n      <td>40</td>\n      <td>5.75</td>\n      <td>scattered clouds</td>\n    </tr>\n    <tr>\n      <th>719</th>\n      <td>719</td>\n      <td>Chalisgaon</td>\n      <td>NE</td>\n      <td>20.4667</td>\n      <td>75.0167</td>\n      <td>72.57</td>\n      <td>27</td>\n      <td>0</td>\n      <td>5.70</td>\n      <td>clear sky</td>\n    </tr>\n  </tbody>\n</table>\n<p>223 rows × 10 columns</p>\n</div>"
     },
     "metadata": {},
     "execution_count": 10
    }
   ],
   "source": [
    "# 4b. Drop any empty rows and create a new DataFrame that doesn’t have empty rows.\n",
    "clean_df = preferred_cities_df.dropna()\n",
    "clean_df"
   ]
  },
  {
   "cell_type": "code",
   "execution_count": 11,
   "metadata": {},
   "outputs": [
    {
     "output_type": "execute_result",
     "data": {
      "text/plain": [
       "                     City Country  Max Temp Current Description      Lat  \\\n",
       "3   Los Llanos De Aridane      NE     68.00    scattered clouds  28.6585   \n",
       "4                Culiacan      NE     66.99           clear sky  24.7994   \n",
       "8                  Cairns      NE     75.20     overcast clouds -16.9167   \n",
       "10                 Kiunga      NE     73.36     overcast clouds  -6.1219   \n",
       "11                   Hilo      NE     66.20          light rain  19.7297   \n",
       "12           Ponta Do Sol      NE     64.00    scattered clouds  32.6667   \n",
       "13         Cabo San Lucas      NE     68.00           clear sky  22.8909   \n",
       "15                Tautira      NE     77.00          light rain -17.7333   \n",
       "17              Dickinson      NE     68.00     overcast clouds  29.4608   \n",
       "19               Bengkulu      NE     76.66          light rain  -3.8004   \n",
       "\n",
       "         Lng Hotel Name  \n",
       "3   -17.9182             \n",
       "4  -107.3897             \n",
       "8   145.7667             \n",
       "10  141.2906             \n",
       "11 -155.0900             \n",
       "12  -17.1000             \n",
       "13 -109.9124             \n",
       "15 -149.1500             \n",
       "17  -95.0513             \n",
       "19  102.2655             "
      ],
      "text/html": "<div>\n<style scoped>\n    .dataframe tbody tr th:only-of-type {\n        vertical-align: middle;\n    }\n\n    .dataframe tbody tr th {\n        vertical-align: top;\n    }\n\n    .dataframe thead th {\n        text-align: right;\n    }\n</style>\n<table border=\"1\" class=\"dataframe\">\n  <thead>\n    <tr style=\"text-align: right;\">\n      <th></th>\n      <th>City</th>\n      <th>Country</th>\n      <th>Max Temp</th>\n      <th>Current Description</th>\n      <th>Lat</th>\n      <th>Lng</th>\n      <th>Hotel Name</th>\n    </tr>\n  </thead>\n  <tbody>\n    <tr>\n      <th>3</th>\n      <td>Los Llanos De Aridane</td>\n      <td>NE</td>\n      <td>68.00</td>\n      <td>scattered clouds</td>\n      <td>28.6585</td>\n      <td>-17.9182</td>\n      <td></td>\n    </tr>\n    <tr>\n      <th>4</th>\n      <td>Culiacan</td>\n      <td>NE</td>\n      <td>66.99</td>\n      <td>clear sky</td>\n      <td>24.7994</td>\n      <td>-107.3897</td>\n      <td></td>\n    </tr>\n    <tr>\n      <th>8</th>\n      <td>Cairns</td>\n      <td>NE</td>\n      <td>75.20</td>\n      <td>overcast clouds</td>\n      <td>-16.9167</td>\n      <td>145.7667</td>\n      <td></td>\n    </tr>\n    <tr>\n      <th>10</th>\n      <td>Kiunga</td>\n      <td>NE</td>\n      <td>73.36</td>\n      <td>overcast clouds</td>\n      <td>-6.1219</td>\n      <td>141.2906</td>\n      <td></td>\n    </tr>\n    <tr>\n      <th>11</th>\n      <td>Hilo</td>\n      <td>NE</td>\n      <td>66.20</td>\n      <td>light rain</td>\n      <td>19.7297</td>\n      <td>-155.0900</td>\n      <td></td>\n    </tr>\n    <tr>\n      <th>12</th>\n      <td>Ponta Do Sol</td>\n      <td>NE</td>\n      <td>64.00</td>\n      <td>scattered clouds</td>\n      <td>32.6667</td>\n      <td>-17.1000</td>\n      <td></td>\n    </tr>\n    <tr>\n      <th>13</th>\n      <td>Cabo San Lucas</td>\n      <td>NE</td>\n      <td>68.00</td>\n      <td>clear sky</td>\n      <td>22.8909</td>\n      <td>-109.9124</td>\n      <td></td>\n    </tr>\n    <tr>\n      <th>15</th>\n      <td>Tautira</td>\n      <td>NE</td>\n      <td>77.00</td>\n      <td>light rain</td>\n      <td>-17.7333</td>\n      <td>-149.1500</td>\n      <td></td>\n    </tr>\n    <tr>\n      <th>17</th>\n      <td>Dickinson</td>\n      <td>NE</td>\n      <td>68.00</td>\n      <td>overcast clouds</td>\n      <td>29.4608</td>\n      <td>-95.0513</td>\n      <td></td>\n    </tr>\n    <tr>\n      <th>19</th>\n      <td>Bengkulu</td>\n      <td>NE</td>\n      <td>76.66</td>\n      <td>light rain</td>\n      <td>-3.8004</td>\n      <td>102.2655</td>\n      <td></td>\n    </tr>\n  </tbody>\n</table>\n</div>"
     },
     "metadata": {},
     "execution_count": 11
    }
   ],
   "source": [
    "# 5a. Create DataFrame called hotel_df to store hotel names along with city, country, max temp, and coordinates.\n",
    "hotel_df = clean_df[[\"City\", \"Country\", \"Max Temp\", \"Current Description\", \"Lat\", \"Lng\"]].copy()\n",
    "\n",
    "# 5b. Create a new column \"Hotel Name\"\n",
    "hotel_df[\"Hotel Name\"] = \"\"\n",
    "hotel_df.head(10)"
   ]
  },
  {
   "cell_type": "code",
   "execution_count": 8,
   "metadata": {},
   "outputs": [],
   "source": [
    "# 6a. Set parameters to search for hotels with 5000 meters.\n",
    "params = {\n",
    "    \"radius\": 5000,\n",
    "    \"type\": \"lodging\",\n",
    "    \"key\": g_key\n",
    "}\n",
    "\n",
    "# 6b. Iterate through the hotel DataFrame.\n",
    "\n",
    "    # 6c. Get latitude and longitude from DataFrame\n",
    "\n",
    "    \n",
    "    # 6d. Set up the base URL for the Google Directions API to get JSON data.\n",
    "    \n",
    "\n",
    "    # 6e. Make request and retrieve the JSON data from the search. \n",
    "   \n",
    "    \n",
    "    # 6f. Get the first hotel from the results and store the name, if a hotel isn't found skip the city.\n",
    "    \n",
    "        "
   ]
  },
  {
   "cell_type": "code",
   "execution_count": 9,
   "metadata": {},
   "outputs": [],
   "source": [
    "# 7. Drop the rows where there is no Hotel Name.\n"
   ]
  },
  {
   "cell_type": "code",
   "execution_count": 10,
   "metadata": {},
   "outputs": [],
   "source": [
    "# 8a. Create the output File (CSV)\n",
    "\n",
    "# 8b. Export the City_Data into a csv\n",
    "clean_hotel_df.to_csv(output_data_file, index_label=\"City_ID\")"
   ]
  },
  {
   "cell_type": "code",
   "execution_count": 11,
   "metadata": {},
   "outputs": [],
   "source": [
    "# 9. Using the template add city name, the country code, the weather description and maximum temperature for the city.\n",
    "info_box_template = \"\"\"\n",
    "\n",
    "\"\"\"\n",
    "\n",
    "# 10a. Get the data from each row and add it to the formatting template and store the data in a list.\n",
    "hotel_info = [info_box_template.format(**row) for index, row in clean_hotel_df.iterrows()]\n",
    "\n",
    "# 10b. Get the latitude and longitude from each row and store in a new DataFrame.\n",
    "locations = clean_hotel_df[[\"Lat\", \"Lng\"]]"
   ]
  },
  {
   "cell_type": "code",
   "execution_count": 12,
   "metadata": {},
   "outputs": [],
   "source": [
    "# 11a. Add a marker layer for each city to the map. \n",
    "\n",
    "# 11b. Display the figure\n"
   ]
  },
  {
   "cell_type": "code",
   "execution_count": null,
   "metadata": {},
   "outputs": [],
   "source": []
  },
  {
   "cell_type": "code",
   "execution_count": null,
   "metadata": {},
   "outputs": [],
   "source": []
  }
 ],
 "metadata": {
  "kernelspec": {
   "display_name": "PythonData",
   "language": "python",
   "name": "pythondata"
  },
  "language_info": {
   "codemirror_mode": {
    "name": "ipython",
    "version": 3
   },
   "file_extension": ".py",
   "mimetype": "text/x-python",
   "name": "python",
   "nbconvert_exporter": "python",
   "pygments_lexer": "ipython3",
   "version": "3.8.5-final"
  },
  "latex_envs": {
   "LaTeX_envs_menu_present": true,
   "autoclose": false,
   "autocomplete": true,
   "bibliofile": "biblio.bib",
   "cite_by": "apalike",
   "current_citInitial": 1,
   "eqLabelWithNumbers": true,
   "eqNumInitial": 1,
   "hotkeys": {
    "equation": "Ctrl-E",
    "itemize": "Ctrl-I"
   },
   "labels_anchors": false,
   "latex_user_defs": false,
   "report_style_numbering": false,
   "user_envs_cfg": false
  }
 },
 "nbformat": 4,
 "nbformat_minor": 2
}