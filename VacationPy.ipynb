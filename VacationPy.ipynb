{
 "cells": [
  {
   "cell_type": "code",
   "execution_count": 1,
   "metadata": {},
   "outputs": [],
   "source": [
    "# Import the dependencies.\n",
    "import pandas as pd\n",
    "import gmaps\n",
    "import requests\n",
    "# Import the API key.\n",
    "from config import g_key"
   ]
  },
  {
   "cell_type": "code",
   "execution_count": 2,
   "metadata": {},
   "outputs": [
    {
     "output_type": "execute_result",
     "data": {
      "text/plain": [
       "   City_ID            City Country                 Date      Lat       Lng  \\\n",
       "0        0            Wick      GB  2021-01-29 19:03:14  58.4333   -3.0833   \n",
       "1        1           Nioro      GM  2021-01-29 19:04:51  13.3500  -15.7500   \n",
       "2        2     Clyde River      CA  2021-01-29 19:03:15  70.4692  -68.5914   \n",
       "3        3  Guerrero Negro      MX  2021-01-29 19:04:52  27.9769 -114.0611   \n",
       "4        4      Sao Filipe      CV  2021-01-29 19:04:52  14.8961  -24.4956   \n",
       "\n",
       "   Max Temp  Humidity  Cloudiness  Wind Speed  \n",
       "0     35.60        87          40        9.22  \n",
       "1     88.97        11          46        5.57  \n",
       "2    -13.00        77           1        9.22  \n",
       "3     64.96        54           0       11.32  \n",
       "4     77.31        57         100        8.70  "
      ],
      "text/html": "<div>\n<style scoped>\n    .dataframe tbody tr th:only-of-type {\n        vertical-align: middle;\n    }\n\n    .dataframe tbody tr th {\n        vertical-align: top;\n    }\n\n    .dataframe thead th {\n        text-align: right;\n    }\n</style>\n<table border=\"1\" class=\"dataframe\">\n  <thead>\n    <tr style=\"text-align: right;\">\n      <th></th>\n      <th>City_ID</th>\n      <th>City</th>\n      <th>Country</th>\n      <th>Date</th>\n      <th>Lat</th>\n      <th>Lng</th>\n      <th>Max Temp</th>\n      <th>Humidity</th>\n      <th>Cloudiness</th>\n      <th>Wind Speed</th>\n    </tr>\n  </thead>\n  <tbody>\n    <tr>\n      <th>0</th>\n      <td>0</td>\n      <td>Wick</td>\n      <td>GB</td>\n      <td>2021-01-29 19:03:14</td>\n      <td>58.4333</td>\n      <td>-3.0833</td>\n      <td>35.60</td>\n      <td>87</td>\n      <td>40</td>\n      <td>9.22</td>\n    </tr>\n    <tr>\n      <th>1</th>\n      <td>1</td>\n      <td>Nioro</td>\n      <td>GM</td>\n      <td>2021-01-29 19:04:51</td>\n      <td>13.3500</td>\n      <td>-15.7500</td>\n      <td>88.97</td>\n      <td>11</td>\n      <td>46</td>\n      <td>5.57</td>\n    </tr>\n    <tr>\n      <th>2</th>\n      <td>2</td>\n      <td>Clyde River</td>\n      <td>CA</td>\n      <td>2021-01-29 19:03:15</td>\n      <td>70.4692</td>\n      <td>-68.5914</td>\n      <td>-13.00</td>\n      <td>77</td>\n      <td>1</td>\n      <td>9.22</td>\n    </tr>\n    <tr>\n      <th>3</th>\n      <td>3</td>\n      <td>Guerrero Negro</td>\n      <td>MX</td>\n      <td>2021-01-29 19:04:52</td>\n      <td>27.9769</td>\n      <td>-114.0611</td>\n      <td>64.96</td>\n      <td>54</td>\n      <td>0</td>\n      <td>11.32</td>\n    </tr>\n    <tr>\n      <th>4</th>\n      <td>4</td>\n      <td>Sao Filipe</td>\n      <td>CV</td>\n      <td>2021-01-29 19:04:52</td>\n      <td>14.8961</td>\n      <td>-24.4956</td>\n      <td>77.31</td>\n      <td>57</td>\n      <td>100</td>\n      <td>8.70</td>\n    </tr>\n  </tbody>\n</table>\n</div>"
     },
     "metadata": {},
     "execution_count": 2
    }
   ],
   "source": [
    "# Store the CSV you saved created in part one into a DataFrame.\n",
    "city_data_df = pd.read_csv(\"weather_data/cities.csv\")\n",
    "city_data_df.head()"
   ]
  },
  {
   "cell_type": "code",
   "execution_count": 3,
   "metadata": {},
   "outputs": [
    {
     "output_type": "execute_result",
     "data": {
      "text/plain": [
       "City_ID         int64\n",
       "City           object\n",
       "Country        object\n",
       "Date           object\n",
       "Lat           float64\n",
       "Lng           float64\n",
       "Max Temp      float64\n",
       "Humidity        int64\n",
       "Cloudiness      int64\n",
       "Wind Speed    float64\n",
       "dtype: object"
      ]
     },
     "metadata": {},
     "execution_count": 3
    }
   ],
   "source": [
    "city_data_df.dtypes"
   ]
  },
  {
   "cell_type": "code",
   "execution_count": 4,
   "metadata": {},
   "outputs": [],
   "source": [
    "# Configure gmaps to use your Google API key.\n",
    "gmaps.configure(api_key = g_key)"
   ]
  },
  {
   "cell_type": "code",
   "execution_count": 5,
   "metadata": {},
   "outputs": [],
   "source": [
    "# Get the maximum temperature.\n",
    "max_temp = city_data_df[\"Max Temp\"]\n",
    "temps = []\n",
    "for temp in max_temp:\n",
    "    temps.append(max(temp, 0))"
   ]
  },
  {
   "cell_type": "code",
   "execution_count": 13,
   "metadata": {},
   "outputs": [
    {
     "output_type": "display_data",
     "data": {
      "text/plain": "Figure(layout=FigureLayout(height='420px'))",
      "application/vnd.jupyter.widget-view+json": {
       "version_major": 2,
       "version_minor": 0,
       "model_id": "330780d39a9b4827a71138e19f829a62"
      }
     },
     "metadata": {}
    }
   ],
   "source": [
    "# Heatmap of temperature\n",
    "# Get the latitude and longitude.\n",
    "locations = city_data_df[[\"Lat\", \"Lng\"]]\n",
    "# Get the maximum temperature.\n",
    "max_temp = city_data_df[\"Max Temp\"]\n",
    "# Assign the figure variable.\n",
    "fig = gmaps.figure(center=(30.0, 31.0), zoom_level=1.5)\n",
    "# Assign the heatmap variable.\n",
    "heat_layer = gmaps.heatmap_layer(locations, weights=temps, dissipating=False, max_intensity=300, point_radius=4)\n",
    "# Add the heatmap layer.\n",
    "fig.add_layer(heat_layer)\n",
    "# Call the figure to plot the data.\n",
    "fig"
   ]
  },
  {
   "cell_type": "code",
   "execution_count": 14,
   "metadata": {},
   "outputs": [
    {
     "output_type": "display_data",
     "data": {
      "text/plain": "Figure(layout=FigureLayout(height='420px'))",
      "application/vnd.jupyter.widget-view+json": {
       "version_major": 2,
       "version_minor": 0,
       "model_id": "0fa1e4fdbaa2442b8593b4d9428ba3b3"
      }
     },
     "metadata": {}
    }
   ],
   "source": [
    "# Heatmap of percent humidity\n",
    "locations = city_data_df[[\"Lat\", \"Lng\"]]\n",
    "humidity = city_data_df[\"Humidity\"]\n",
    "fig = gmaps.figure(center=(30.0, 31.0), zoom_level=1.5)\n",
    "heat_layer = gmaps.heatmap_layer(locations, weights=humidity, dissipating=False, max_intensity=300, point_radius=4)\n",
    "\n",
    "fig.add_layer(heat_layer)\n",
    "# Call the figure to plot the data.\n",
    "fig"
   ]
  },
  {
   "cell_type": "code",
   "execution_count": 16,
   "metadata": {},
   "outputs": [
    {
     "output_type": "display_data",
     "data": {
      "text/plain": "Figure(layout=FigureLayout(height='420px'))",
      "application/vnd.jupyter.widget-view+json": {
       "version_major": 2,
       "version_minor": 0,
       "model_id": "48e185bfa1e34b059fd6483516da9641"
      }
     },
     "metadata": {}
    }
   ],
   "source": [
    "# Heatmap of percent cloudiness\n",
    "locations = city_data_df[[\"Lat\", \"Lng\"]]\n",
    "clouds = city_data_df[\"Cloudiness\"]\n",
    "fig = gmaps.figure(center=(30.0, 31.0), zoom_level=1.5)\n",
    "heat_layer = gmaps.heatmap_layer(locations, weights=clouds, dissipating=False, max_intensity=300, point_radius=4)\n",
    "\n",
    "fig.add_layer(heat_layer)\n",
    "# Call the figure to plot the data.\n",
    "fig"
   ]
  },
  {
   "cell_type": "code",
   "execution_count": 17,
   "metadata": {},
   "outputs": [
    {
     "output_type": "display_data",
     "data": {
      "text/plain": "Figure(layout=FigureLayout(height='420px'))",
      "application/vnd.jupyter.widget-view+json": {
       "version_major": 2,
       "version_minor": 0,
       "model_id": "0454041873ce47a88c0063d3384c383b"
      }
     },
     "metadata": {}
    }
   ],
   "source": [
    "# Heatmap of wind speed\n",
    "locations = city_data_df[[\"Lat\", \"Lng\"]]\n",
    "wind = city_data_df[\"Wind Speed\"]\n",
    "fig = gmaps.figure(center=(30.0, 31.0), zoom_level=1.5)\n",
    "heat_layer = gmaps.heatmap_layer(locations, weights=wind, dissipating=False, max_intensity=300, point_radius=4)\n",
    "\n",
    "fig.add_layer(heat_layer)\n",
    "# Call the figure to plot the data.\n",
    "fig"
   ]
  },
  {
   "cell_type": "code",
   "execution_count": 19,
   "metadata": {},
   "outputs": [],
   "source": [
    "# Ask the customer to add a minimum and maximum temperature value.\n",
    "min_temp = float(input(\"What is the minimum temperature you would like for your trip? \"))\n",
    "max_temp = float(input(\"What is the maximum temperature you would like for your trip? \"))"
   ]
  },
  {
   "cell_type": "code",
   "execution_count": 20,
   "metadata": {},
   "outputs": [
    {
     "output_type": "execute_result",
     "data": {
      "text/plain": [
       "    City_ID          City Country                 Date      Lat       Lng  \\\n",
       "1         1         Nioro      GM  2021-01-29 19:04:51  13.3500  -15.7500   \n",
       "4         4    Sao Filipe      CV  2021-01-29 19:04:52  14.8961  -24.4956   \n",
       "7         7       Rikitea      PF  2021-01-29 19:07:58 -23.1203 -134.9692   \n",
       "8         8     Carnarvon      AU  2021-01-29 19:07:58 -24.8667  113.6333   \n",
       "10       10    Butaritari      KI  2021-01-29 19:04:53   3.0707  172.7902   \n",
       "12       12      Beroroha      MG  2021-01-29 19:07:59 -21.6667   45.1667   \n",
       "16       16       Kavieng      PG  2021-01-29 19:08:00  -2.5744  150.7967   \n",
       "17       17     San Pedro      PH  2021-01-29 19:08:00  14.3500  121.0167   \n",
       "19       19  Saint-Pierre      RE  2021-01-29 19:04:54 -21.3393   55.4781   \n",
       "21       21     Caravelas      BR  2021-01-29 19:04:55 -17.7125  -39.2481   \n",
       "\n",
       "    Max Temp  Humidity  Cloudiness  Wind Speed  \n",
       "1      88.97        11          46        5.57  \n",
       "4      77.31        57         100        8.70  \n",
       "7      79.65        69          57        6.80  \n",
       "8      78.80        89           6        9.22  \n",
       "10     80.58        77          97       17.38  \n",
       "12     77.68        83         100        2.21  \n",
       "16     82.78        82          67       15.77  \n",
       "17     77.00        69          40        4.61  \n",
       "19     80.60        65           0        3.44  \n",
       "21     83.37        61           0        9.71  "
      ],
      "text/html": "<div>\n<style scoped>\n    .dataframe tbody tr th:only-of-type {\n        vertical-align: middle;\n    }\n\n    .dataframe tbody tr th {\n        vertical-align: top;\n    }\n\n    .dataframe thead th {\n        text-align: right;\n    }\n</style>\n<table border=\"1\" class=\"dataframe\">\n  <thead>\n    <tr style=\"text-align: right;\">\n      <th></th>\n      <th>City_ID</th>\n      <th>City</th>\n      <th>Country</th>\n      <th>Date</th>\n      <th>Lat</th>\n      <th>Lng</th>\n      <th>Max Temp</th>\n      <th>Humidity</th>\n      <th>Cloudiness</th>\n      <th>Wind Speed</th>\n    </tr>\n  </thead>\n  <tbody>\n    <tr>\n      <th>1</th>\n      <td>1</td>\n      <td>Nioro</td>\n      <td>GM</td>\n      <td>2021-01-29 19:04:51</td>\n      <td>13.3500</td>\n      <td>-15.7500</td>\n      <td>88.97</td>\n      <td>11</td>\n      <td>46</td>\n      <td>5.57</td>\n    </tr>\n    <tr>\n      <th>4</th>\n      <td>4</td>\n      <td>Sao Filipe</td>\n      <td>CV</td>\n      <td>2021-01-29 19:04:52</td>\n      <td>14.8961</td>\n      <td>-24.4956</td>\n      <td>77.31</td>\n      <td>57</td>\n      <td>100</td>\n      <td>8.70</td>\n    </tr>\n    <tr>\n      <th>7</th>\n      <td>7</td>\n      <td>Rikitea</td>\n      <td>PF</td>\n      <td>2021-01-29 19:07:58</td>\n      <td>-23.1203</td>\n      <td>-134.9692</td>\n      <td>79.65</td>\n      <td>69</td>\n      <td>57</td>\n      <td>6.80</td>\n    </tr>\n    <tr>\n      <th>8</th>\n      <td>8</td>\n      <td>Carnarvon</td>\n      <td>AU</td>\n      <td>2021-01-29 19:07:58</td>\n      <td>-24.8667</td>\n      <td>113.6333</td>\n      <td>78.80</td>\n      <td>89</td>\n      <td>6</td>\n      <td>9.22</td>\n    </tr>\n    <tr>\n      <th>10</th>\n      <td>10</td>\n      <td>Butaritari</td>\n      <td>KI</td>\n      <td>2021-01-29 19:04:53</td>\n      <td>3.0707</td>\n      <td>172.7902</td>\n      <td>80.58</td>\n      <td>77</td>\n      <td>97</td>\n      <td>17.38</td>\n    </tr>\n    <tr>\n      <th>12</th>\n      <td>12</td>\n      <td>Beroroha</td>\n      <td>MG</td>\n      <td>2021-01-29 19:07:59</td>\n      <td>-21.6667</td>\n      <td>45.1667</td>\n      <td>77.68</td>\n      <td>83</td>\n      <td>100</td>\n      <td>2.21</td>\n    </tr>\n    <tr>\n      <th>16</th>\n      <td>16</td>\n      <td>Kavieng</td>\n      <td>PG</td>\n      <td>2021-01-29 19:08:00</td>\n      <td>-2.5744</td>\n      <td>150.7967</td>\n      <td>82.78</td>\n      <td>82</td>\n      <td>67</td>\n      <td>15.77</td>\n    </tr>\n    <tr>\n      <th>17</th>\n      <td>17</td>\n      <td>San Pedro</td>\n      <td>PH</td>\n      <td>2021-01-29 19:08:00</td>\n      <td>14.3500</td>\n      <td>121.0167</td>\n      <td>77.00</td>\n      <td>69</td>\n      <td>40</td>\n      <td>4.61</td>\n    </tr>\n    <tr>\n      <th>19</th>\n      <td>19</td>\n      <td>Saint-Pierre</td>\n      <td>RE</td>\n      <td>2021-01-29 19:04:54</td>\n      <td>-21.3393</td>\n      <td>55.4781</td>\n      <td>80.60</td>\n      <td>65</td>\n      <td>0</td>\n      <td>3.44</td>\n    </tr>\n    <tr>\n      <th>21</th>\n      <td>21</td>\n      <td>Caravelas</td>\n      <td>BR</td>\n      <td>2021-01-29 19:04:55</td>\n      <td>-17.7125</td>\n      <td>-39.2481</td>\n      <td>83.37</td>\n      <td>61</td>\n      <td>0</td>\n      <td>9.71</td>\n    </tr>\n  </tbody>\n</table>\n</div>"
     },
     "metadata": {},
     "execution_count": 20
    }
   ],
   "source": [
    "# Filter the dataset to find the cities that fit the criteria.\n",
    "preferred_cities_df = city_data_df.loc[(city_data_df[\"Max Temp\"] <= max_temp) & \\\n",
    "                                       (city_data_df[\"Max Temp\"] >= min_temp)]\n",
    "preferred_cities_df.head(10)"
   ]
  },
  {
   "cell_type": "code",
   "execution_count": 21,
   "metadata": {},
   "outputs": [
    {
     "output_type": "execute_result",
     "data": {
      "text/plain": [
       "City_ID       160\n",
       "City          160\n",
       "Country       158\n",
       "Date          160\n",
       "Lat           160\n",
       "Lng           160\n",
       "Max Temp      160\n",
       "Humidity      160\n",
       "Cloudiness    160\n",
       "Wind Speed    160\n",
       "dtype: int64"
      ]
     },
     "metadata": {},
     "execution_count": 21
    }
   ],
   "source": [
    "preferred_cities_df.count()"
   ]
  },
  {
   "cell_type": "code",
   "execution_count": 22,
   "metadata": {},
   "outputs": [
    {
     "output_type": "execute_result",
     "data": {
      "text/plain": [
       "            City Country  Max Temp      Lat       Lng Hotel Name\n",
       "1          Nioro      GM     88.97  13.3500  -15.7500           \n",
       "4     Sao Filipe      CV     77.31  14.8961  -24.4956           \n",
       "7        Rikitea      PF     79.65 -23.1203 -134.9692           \n",
       "8      Carnarvon      AU     78.80 -24.8667  113.6333           \n",
       "10    Butaritari      KI     80.58   3.0707  172.7902           \n",
       "12      Beroroha      MG     77.68 -21.6667   45.1667           \n",
       "16       Kavieng      PG     82.78  -2.5744  150.7967           \n",
       "17     San Pedro      PH     77.00  14.3500  121.0167           \n",
       "19  Saint-Pierre      RE     80.60 -21.3393   55.4781           \n",
       "21     Caravelas      BR     83.37 -17.7125  -39.2481           "
      ],
      "text/html": "<div>\n<style scoped>\n    .dataframe tbody tr th:only-of-type {\n        vertical-align: middle;\n    }\n\n    .dataframe tbody tr th {\n        vertical-align: top;\n    }\n\n    .dataframe thead th {\n        text-align: right;\n    }\n</style>\n<table border=\"1\" class=\"dataframe\">\n  <thead>\n    <tr style=\"text-align: right;\">\n      <th></th>\n      <th>City</th>\n      <th>Country</th>\n      <th>Max Temp</th>\n      <th>Lat</th>\n      <th>Lng</th>\n      <th>Hotel Name</th>\n    </tr>\n  </thead>\n  <tbody>\n    <tr>\n      <th>1</th>\n      <td>Nioro</td>\n      <td>GM</td>\n      <td>88.97</td>\n      <td>13.3500</td>\n      <td>-15.7500</td>\n      <td></td>\n    </tr>\n    <tr>\n      <th>4</th>\n      <td>Sao Filipe</td>\n      <td>CV</td>\n      <td>77.31</td>\n      <td>14.8961</td>\n      <td>-24.4956</td>\n      <td></td>\n    </tr>\n    <tr>\n      <th>7</th>\n      <td>Rikitea</td>\n      <td>PF</td>\n      <td>79.65</td>\n      <td>-23.1203</td>\n      <td>-134.9692</td>\n      <td></td>\n    </tr>\n    <tr>\n      <th>8</th>\n      <td>Carnarvon</td>\n      <td>AU</td>\n      <td>78.80</td>\n      <td>-24.8667</td>\n      <td>113.6333</td>\n      <td></td>\n    </tr>\n    <tr>\n      <th>10</th>\n      <td>Butaritari</td>\n      <td>KI</td>\n      <td>80.58</td>\n      <td>3.0707</td>\n      <td>172.7902</td>\n      <td></td>\n    </tr>\n    <tr>\n      <th>12</th>\n      <td>Beroroha</td>\n      <td>MG</td>\n      <td>77.68</td>\n      <td>-21.6667</td>\n      <td>45.1667</td>\n      <td></td>\n    </tr>\n    <tr>\n      <th>16</th>\n      <td>Kavieng</td>\n      <td>PG</td>\n      <td>82.78</td>\n      <td>-2.5744</td>\n      <td>150.7967</td>\n      <td></td>\n    </tr>\n    <tr>\n      <th>17</th>\n      <td>San Pedro</td>\n      <td>PH</td>\n      <td>77.00</td>\n      <td>14.3500</td>\n      <td>121.0167</td>\n      <td></td>\n    </tr>\n    <tr>\n      <th>19</th>\n      <td>Saint-Pierre</td>\n      <td>RE</td>\n      <td>80.60</td>\n      <td>-21.3393</td>\n      <td>55.4781</td>\n      <td></td>\n    </tr>\n    <tr>\n      <th>21</th>\n      <td>Caravelas</td>\n      <td>BR</td>\n      <td>83.37</td>\n      <td>-17.7125</td>\n      <td>-39.2481</td>\n      <td></td>\n    </tr>\n  </tbody>\n</table>\n</div>"
     },
     "metadata": {},
     "execution_count": 22
    }
   ],
   "source": [
    "# Create DataFrame called hotel_df to store hotel names along with city, country, max temp, and coordinates.\n",
    "hotel_df = preferred_cities_df[[\"City\", \"Country\", \"Max Temp\", \"Lat\", \"Lng\"]].copy()\n",
    "hotel_df[\"Hotel Name\"] = \"\"\n",
    "hotel_df.head(10)"
   ]
  },
  {
   "cell_type": "code",
   "execution_count": 31,
   "metadata": {},
   "outputs": [
    {
     "output_type": "stream",
     "name": "stdout",
     "text": [
      "Hotel not found... skipping.\n",
      "Hotel not found... skipping.\n",
      "Hotel not found... skipping.\n",
      "Hotel not found... skipping.\n",
      "Hotel not found... skipping.\n",
      "Hotel not found... skipping.\n",
      "Hotel not found... skipping.\n",
      "Hotel not found... skipping.\n",
      "Hotel not found... skipping.\n",
      "Hotel not found... skipping.\n",
      "Hotel not found... skipping.\n"
     ]
    }
   ],
   "source": [
    "# Set parameters to search for a hotel.\n",
    "params = {\n",
    "    \"radius\": 5000,\n",
    "    \"type\": \"lodging\",\n",
    "    \"key\": g_key}\n",
    "\n",
    "# Iterate through the DataFrame.\n",
    "for index, row in hotel_df.iterrows():\n",
    "    # Get the latitude and longitude.\n",
    "    lat = row[\"Lat\"]\n",
    "    lng = row[\"Lng\"]\n",
    "\n",
    "    # Add the latitude and longitude to location key for the params dictionary.\n",
    "    params[\"location\"] = f\"{lat},{lng}\"\n",
    "\n",
    "    # Use the search term: \"lodging\" and our latitude and longitude.\n",
    "    base_url = \"https://maps.googleapis.com/maps/api/place/nearbysearch/json\"\n",
    "    # Make request and get the JSON data from the search.\n",
    "    hotels = requests.get(base_url, params=params).json()\n",
    "    # Grab the first hotel from the results and store the name.\n",
    "    try:\n",
    "        hotel_df.loc[index, \"Hotel Name\"] = hotels[\"results\"][0][\"name\"]\n",
    "    except (IndexError):\n",
    "        print(\"Hotel not found... skipping.\")"
   ]
  },
  {
   "cell_type": "code",
   "execution_count": 33,
   "metadata": {},
   "outputs": [
    {
     "output_type": "display_data",
     "data": {
      "text/plain": "Figure(layout=FigureLayout(height='420px'))",
      "application/vnd.jupyter.widget-view+json": {
       "version_major": 2,
       "version_minor": 0,
       "model_id": "e3313a3b21ad400b9feb7b505199d2be"
      }
     },
     "metadata": {}
    }
   ],
   "source": [
    "# Add a heatmap of temperature for the vacation spots and marker for each city.\n",
    "locations = hotel_df[[\"Lat\", \"Lng\"]]\n",
    "max_temp = hotel_df[\"Max Temp\"]\n",
    "fig = gmaps.figure(center=(30.0, 31.0), zoom_level=1.5)\n",
    "heat_layer = gmaps.heatmap_layer(locations, weights=max_temp,\n",
    "             dissipating=False, max_intensity=300, point_radius=4)\n",
    "marker_layer = gmaps.marker_layer(locations)\n",
    "fig.add_layer(heat_layer)\n",
    "fig.add_layer(marker_layer)\n",
    "# Call the figure to plot the data.\n",
    "fig"
   ]
  },
  {
   "cell_type": "code",
   "execution_count": 34,
   "metadata": {},
   "outputs": [],
   "source": [
    "info_box_template = \"\"\"\n",
    "<dl>\n",
    "<dt>Hotel Name</dt><dd>{Hotel Name}</dd>\n",
    "<dt>City</dt><dd>{City}</dd>\n",
    "<dt>Country</dt><dd>{Country}</dd>\n",
    "<dt>Max Temp</dt><dd>{Max Temp} °F</dd>\n",
    "</dl>\n",
    "\"\"\""
   ]
  },
  {
   "cell_type": "code",
   "execution_count": 35,
   "metadata": {},
   "outputs": [],
   "source": [
    "# Store the DataFrame Row.\n",
    "hotel_info = [info_box_template.format(**row) for index, row in hotel_df.iterrows()]"
   ]
  },
  {
   "cell_type": "code",
   "execution_count": 36,
   "metadata": {},
   "outputs": [
    {
     "output_type": "display_data",
     "data": {
      "text/plain": "Figure(layout=FigureLayout(height='420px'))",
      "application/vnd.jupyter.widget-view+json": {
       "version_major": 2,
       "version_minor": 0,
       "model_id": "a9781b391fb64e3b9f814684bd147a0e"
      }
     },
     "metadata": {}
    }
   ],
   "source": [
    "# Add a heatmap of temperature for the vacation spots and a pop-up marker for each city.\n",
    "locations = hotel_df[[\"Lat\", \"Lng\"]]\n",
    "max_temp = hotel_df[\"Max Temp\"]\n",
    "fig = gmaps.figure(center=(30.0, 31.0), zoom_level=1.5)\n",
    "heat_layer = gmaps.heatmap_layer(locations, weights=max_temp,dissipating=False,\n",
    "             max_intensity=300, point_radius=4)\n",
    "marker_layer = gmaps.marker_layer(locations, info_box_content=hotel_info)\n",
    "fig.add_layer(heat_layer)\n",
    "fig.add_layer(marker_layer)\n",
    "\n",
    "# Call the figure to plot the data.\n",
    "fig"
   ]
  },
  {
   "cell_type": "code",
   "execution_count": null,
   "metadata": {},
   "outputs": [],
   "source": []
  }
 ],
 "metadata": {
  "kernelspec": {
   "display_name": "PythonData",
   "language": "python",
   "name": "pythondata"
  },
  "language_info": {
   "codemirror_mode": {
    "name": "ipython",
    "version": 3
   },
   "file_extension": ".py",
   "mimetype": "text/x-python",
   "name": "python",
   "nbconvert_exporter": "python",
   "pygments_lexer": "ipython3",
   "version": "3.8.5-final"
  }
 },
 "nbformat": 4,
 "nbformat_minor": 2
}