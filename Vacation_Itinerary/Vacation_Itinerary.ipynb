{
 "cells": [
  {
   "cell_type": "markdown",
   "metadata": {},
   "source": [
    "## Deliverable 3. Create a Travel Itinerary Map."
   ]
  },
  {
   "cell_type": "code",
   "execution_count": 1,
   "metadata": {},
   "outputs": [],
   "source": [
    "# Dependencies and Setup\n",
    "import pandas as pd\n",
    "import requests\n",
    "import gmaps\n",
    "\n",
    "# Import API key\n",
    "from config import g_key\n",
    "\n",
    "# Configure gmaps\n",
    "gmaps.configure(api_key=g_key)"
   ]
  },
  {
   "cell_type": "code",
   "execution_count": 2,
   "metadata": {},
   "outputs": [
    {
     "output_type": "execute_result",
     "data": {
      "text/plain": [
       "   City_ID      City Country  Max Temp Current Description      Lat       Lng  \\\n",
       "0        8    Cairns      NE     75.20     overcast clouds -16.9167  145.7667   \n",
       "1       10    Kiunga      NE     73.36     overcast clouds  -6.1219  141.2906   \n",
       "2       15   Tautira      NE     77.00          light rain -17.7333 -149.1500   \n",
       "3       19  Bengkulu      NE     76.66          light rain  -3.8004  102.2655   \n",
       "4       20    Vanimo      NE     79.29       moderate rain  -2.6741  141.3028   \n",
       "\n",
       "              Hotel Name  \n",
       "0  Mantra Trilogy Cairns  \n",
       "1   Airport Lodge Kiunga  \n",
       "2           Pension Oaoa  \n",
       "3   Grage Hotel Bengkulu  \n",
       "4  Vahmoneh Lodge Vanimo  "
      ],
      "text/html": "<div>\n<style scoped>\n    .dataframe tbody tr th:only-of-type {\n        vertical-align: middle;\n    }\n\n    .dataframe tbody tr th {\n        vertical-align: top;\n    }\n\n    .dataframe thead th {\n        text-align: right;\n    }\n</style>\n<table border=\"1\" class=\"dataframe\">\n  <thead>\n    <tr style=\"text-align: right;\">\n      <th></th>\n      <th>City_ID</th>\n      <th>City</th>\n      <th>Country</th>\n      <th>Max Temp</th>\n      <th>Current Description</th>\n      <th>Lat</th>\n      <th>Lng</th>\n      <th>Hotel Name</th>\n    </tr>\n  </thead>\n  <tbody>\n    <tr>\n      <th>0</th>\n      <td>8</td>\n      <td>Cairns</td>\n      <td>NE</td>\n      <td>75.20</td>\n      <td>overcast clouds</td>\n      <td>-16.9167</td>\n      <td>145.7667</td>\n      <td>Mantra Trilogy Cairns</td>\n    </tr>\n    <tr>\n      <th>1</th>\n      <td>10</td>\n      <td>Kiunga</td>\n      <td>NE</td>\n      <td>73.36</td>\n      <td>overcast clouds</td>\n      <td>-6.1219</td>\n      <td>141.2906</td>\n      <td>Airport Lodge Kiunga</td>\n    </tr>\n    <tr>\n      <th>2</th>\n      <td>15</td>\n      <td>Tautira</td>\n      <td>NE</td>\n      <td>77.00</td>\n      <td>light rain</td>\n      <td>-17.7333</td>\n      <td>-149.1500</td>\n      <td>Pension Oaoa</td>\n    </tr>\n    <tr>\n      <th>3</th>\n      <td>19</td>\n      <td>Bengkulu</td>\n      <td>NE</td>\n      <td>76.66</td>\n      <td>light rain</td>\n      <td>-3.8004</td>\n      <td>102.2655</td>\n      <td>Grage Hotel Bengkulu</td>\n    </tr>\n    <tr>\n      <th>4</th>\n      <td>20</td>\n      <td>Vanimo</td>\n      <td>NE</td>\n      <td>79.29</td>\n      <td>moderate rain</td>\n      <td>-2.6741</td>\n      <td>141.3028</td>\n      <td>Vahmoneh Lodge Vanimo</td>\n    </tr>\n  </tbody>\n</table>\n</div>"
     },
     "metadata": {},
     "execution_count": 2
    }
   ],
   "source": [
    "# 1. Read the WeatherPy_vacation.csv into a DataFrame.\n",
    "vacation_df = pd.read_csv(\"Vacation_Search/WeatherPy_vacation.csv\")\n",
    "vacation_df.head()"
   ]
  },
  {
   "cell_type": "code",
   "execution_count": 3,
   "metadata": {},
   "outputs": [],
   "source": [
    "# 2. Using the template add the city name, the country code, the weather description and maximum temperature for the city.\n",
    "info_box_template = \"\"\"\n",
    "<dt>Hotel Name</dt><dd>{Hotel Name}</dd>\n",
    "<dt>City</dt><dd>{City}</dd>\n",
    "<dt>Country</dt><dd>{Country}</dd>\n",
    "<dt>Weather Description</dt><dd>{Current Description}</dd>\n",
    "<dt>Max Temp</dt><dd>{Max Temp} °F</dd>\n",
    "</dl>\n",
    "\"\"\"\n",
    "\n",
    "# 3a. Get the data from each row and add it to the formatting template and store the data in a list.\n",
    "hotel_info = [info_box_template.format(**row) for index, row in vacation_df.iterrows()]\n",
    "\n",
    "# 3b. Get the latitude and longitude from each row and store in a new DataFrame.\n",
    "locations = vacation_df[[\"Lat\", \"Lng\"]]"
   ]
  },
  {
   "cell_type": "code",
   "execution_count": 4,
   "metadata": {},
   "outputs": [
    {
     "output_type": "display_data",
     "data": {
      "text/plain": "Figure(layout=FigureLayout(height='420px'))",
      "application/vnd.jupyter.widget-view+json": {
       "version_major": 2,
       "version_minor": 0,
       "model_id": "0655dc0bbd4144f58bb2f30b9c879604"
      }
     },
     "metadata": {}
    }
   ],
   "source": [
    "# 4a. Add a marker layer for each city to the map.\n",
    "marker_layer = gmaps.marker_layer(locations, info_box_content=hotel_info)\n",
    "fig = gmaps.figure(center=(30.0, 31.0), zoom_level=1.5)\n",
    "fig.add_layer(marker_layer)\n",
    "\n",
    "# 4b. Display the figure\n",
    "fig"
   ]
  },
  {
   "cell_type": "code",
   "execution_count": 5,
   "metadata": {},
   "outputs": [],
   "source": [
    "# From the map above pick 4 cities and create a vacation itinerary route to travel between the four cities. \n",
    "# 5. Create DataFrames for each city by filtering the 'vacation_df' using the loc method. \n",
    "# Hint: The starting and ending city should be the same city.\n",
    "\n",
    "vacation_start = vacation_df.loc[vacation_df['City'] == 'Flinders']\n",
    "vacation_end = vacation_df.loc[vacation_df['City'] == 'Flinders']\n",
    "vacation_stop1 = vacation_df.loc[vacation_df['City'] == 'Byron Bay']\n",
    "vacation_stop2 = vacation_df.loc[vacation_df['City'] == 'Gladstone']\n",
    "vacation_stop3 = vacation_df.loc[vacation_df['City'] == 'Charters Towers']"
   ]
  },
  {
   "cell_type": "code",
   "execution_count": 6,
   "metadata": {},
   "outputs": [],
   "source": [
    "# 6. Get the latitude-longitude pairs as tuples from each city DataFrame using the to_numpy function and list indexing.\n",
    "start = vacation_start.iloc[0,5:7].to_numpy()\n",
    "end = vacation_end.iloc[0,5:7].to_numpy()\n",
    "stop1 = vacation_stop1.iloc[0,5:7].to_numpy()\n",
    "stop2 = vacation_stop2.iloc[0,5:7].to_numpy()\n",
    "stop3 = vacation_stop3.iloc[0,5:7].to_numpy()"
   ]
  },
  {
   "cell_type": "code",
   "execution_count": 7,
   "metadata": {
    "scrolled": true
   },
   "outputs": [
    {
     "output_type": "display_data",
     "data": {
      "text/plain": "Figure(layout=FigureLayout(height='420px'))",
      "application/vnd.jupyter.widget-view+json": {
       "version_major": 2,
       "version_minor": 0,
       "model_id": "f6b1fb6cbc7f4a0bb2a6cacf6cc63803"
      }
     },
     "metadata": {}
    }
   ],
   "source": [
    "# 7. Create a direction layer map using the start and end latitude-longitude pairs,\n",
    "# and stop1, stop2, and stop3 as the waypoints. The travel_mode should be \"DRIVING\", \"BICYCLING\", or \"WALKING\".\n",
    "fig = gmaps.figure(center=(-25, 134), zoom_level = 4)\n",
    "Flinders = start\n",
    "Byron_Bay = stop1\n",
    "Gladstone = stop2\n",
    "Charters_Towers = stop3 \n",
    "roadtrip = gmaps.directions_layer(Flinders, Flinders, waypoints=[Byron_Bay, Gladstone, Charters_Towers],travel_mode=\"DRIVING\")\n",
    "fig.add_layer(roadtrip)\n",
    "fig"
   ]
  },
  {
   "cell_type": "code",
   "execution_count": 8,
   "metadata": {},
   "outputs": [
    {
     "output_type": "execute_result",
     "data": {
      "text/plain": [
       "   City_ID             City Country  Max Temp Current Description      Lat  \\\n",
       "0       61         Flinders      NE     73.00    scattered clouds -34.5833   \n",
       "1      129        Byron Bay      NE     75.20       broken clouds -28.6500   \n",
       "2      422        Gladstone      NE     77.00          light rain -23.8500   \n",
       "3      231  Charters Towers      NE     74.68     overcast clouds -20.1000   \n",
       "\n",
       "        Lng                               Hotel Name  \n",
       "0  150.8552  Shellharbour Resort & Conference Centre  \n",
       "1  153.6167             Backpackers Inn on the Beach  \n",
       "2  151.2500                  Highpoint International  \n",
       "3  146.2667               Cattleman's Rest Motor Inn  "
      ],
      "text/html": "<div>\n<style scoped>\n    .dataframe tbody tr th:only-of-type {\n        vertical-align: middle;\n    }\n\n    .dataframe tbody tr th {\n        vertical-align: top;\n    }\n\n    .dataframe thead th {\n        text-align: right;\n    }\n</style>\n<table border=\"1\" class=\"dataframe\">\n  <thead>\n    <tr style=\"text-align: right;\">\n      <th></th>\n      <th>City_ID</th>\n      <th>City</th>\n      <th>Country</th>\n      <th>Max Temp</th>\n      <th>Current Description</th>\n      <th>Lat</th>\n      <th>Lng</th>\n      <th>Hotel Name</th>\n    </tr>\n  </thead>\n  <tbody>\n    <tr>\n      <th>0</th>\n      <td>61</td>\n      <td>Flinders</td>\n      <td>NE</td>\n      <td>73.00</td>\n      <td>scattered clouds</td>\n      <td>-34.5833</td>\n      <td>150.8552</td>\n      <td>Shellharbour Resort &amp; Conference Centre</td>\n    </tr>\n    <tr>\n      <th>1</th>\n      <td>129</td>\n      <td>Byron Bay</td>\n      <td>NE</td>\n      <td>75.20</td>\n      <td>broken clouds</td>\n      <td>-28.6500</td>\n      <td>153.6167</td>\n      <td>Backpackers Inn on the Beach</td>\n    </tr>\n    <tr>\n      <th>2</th>\n      <td>422</td>\n      <td>Gladstone</td>\n      <td>NE</td>\n      <td>77.00</td>\n      <td>light rain</td>\n      <td>-23.8500</td>\n      <td>151.2500</td>\n      <td>Highpoint International</td>\n    </tr>\n    <tr>\n      <th>3</th>\n      <td>231</td>\n      <td>Charters Towers</td>\n      <td>NE</td>\n      <td>74.68</td>\n      <td>overcast clouds</td>\n      <td>-20.1000</td>\n      <td>146.2667</td>\n      <td>Cattleman's Rest Motor Inn</td>\n    </tr>\n  </tbody>\n</table>\n</div>"
     },
     "metadata": {},
     "execution_count": 8
    }
   ],
   "source": [
    "# 8. To create a marker layer map between the four cities.\n",
    "#  Combine the four city DataFrames into one DataFrame using the concat() function.\n",
    "itinerary_df = pd.concat([vacation_start, vacation_stop1, \n",
    "                          vacation_stop2, vacation_stop3]\n",
    "                         ,ignore_index=True)\n",
    "itinerary_df"
   ]
  },
  {
   "cell_type": "code",
   "execution_count": 9,
   "metadata": {},
   "outputs": [],
   "source": [
    "# 9 Using the template add city name, the country code, the weather description and maximum temperature for the city. \n",
    "info_box_template = \"\"\"\n",
    "<dl>\n",
    "<dt>Hotel Name</dt><dd>{Hotel Name}</dd>\n",
    "<dt>City</dt><dd>{City}</dd>\n",
    "<dt>Country</dt><dd>{Country}</dd>\n",
    "<dt>Weather Description</dt><dd>{Current Description}</dd>\n",
    "<dt>Max Temp</dt><dd>{Max Temp} °F</dd>\n",
    "</dl>\n",
    "\"\"\"\n",
    "\n",
    "# 10a Get the data from each row and add it to the formatting template and store the data in a list.\n",
    "hotel_info = [info_box_template.format(**row) for index, row in itinerary_df.iterrows()]\n",
    "\n",
    "# 10b. Get the latitude and longitude from each row and store in a new DataFrame.\n",
    "locations = itinerary_df[[\"Lat\", \"Lng\"]]"
   ]
  },
  {
   "cell_type": "code",
   "execution_count": 10,
   "metadata": {},
   "outputs": [
    {
     "output_type": "display_data",
     "data": {
      "text/plain": "Figure(layout=FigureLayout(height='420px'))",
      "application/vnd.jupyter.widget-view+json": {
       "version_major": 2,
       "version_minor": 0,
       "model_id": "582b561d959e4c95911c89f826b2f178"
      }
     },
     "metadata": {}
    }
   ],
   "source": [
    "# 11a. Add a marker layer for each city to the map.\n",
    "marker_layer = gmaps.marker_layer(locations, info_box_content=hotel_info)\n",
    "fig = gmaps.figure(center=(-25, 134), zoom_level = 4)\n",
    "fig.add_layer(marker_layer)\n",
    "\n",
    "# 11b. Display the figure\n",
    "fig"
   ]
  },
  {
   "cell_type": "code",
   "execution_count": null,
   "metadata": {},
   "outputs": [],
   "source": []
  }
 ],
 "metadata": {
  "kernelspec": {
   "display_name": "PythonData",
   "language": "python",
   "name": "pythondata"
  },
  "language_info": {
   "codemirror_mode": {
    "name": "ipython",
    "version": 3
   },
   "file_extension": ".py",
   "mimetype": "text/x-python",
   "name": "python",
   "nbconvert_exporter": "python",
   "pygments_lexer": "ipython3",
   "version": "3.8.5-final"
  },
  "latex_envs": {
   "LaTeX_envs_menu_present": true,
   "autoclose": false,
   "autocomplete": true,
   "bibliofile": "biblio.bib",
   "cite_by": "apalike",
   "current_citInitial": 1,
   "eqLabelWithNumbers": true,
   "eqNumInitial": 1,
   "hotkeys": {
    "equation": "Ctrl-E",
    "itemize": "Ctrl-I"
   },
   "labels_anchors": false,
   "latex_user_defs": false,
   "report_style_numbering": false,
   "user_envs_cfg": false
  }
 },
 "nbformat": 4,
 "nbformat_minor": 2
}